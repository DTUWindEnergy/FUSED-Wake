{
 "cells": [
  {
   "cell_type": "code",
   "execution_count": 1,
   "metadata": {
    "collapsed": false
   },
   "outputs": [],
   "source": [
    "%matplotlib inline\n",
    "import numpy as np\n",
    "import scipy as sp\n",
    "import pandas as pd\n",
    "from scipy import interpolate\n",
    "import matplotlib.pyplot as plt\n",
    "import sys\n",
    "sys.path.append('/Users/JPM/Documents/PhD/Models/Working-GCL/')\n",
    "\n",
    "import WindTurbine as wt\n",
    "import WindFarm as wf\n",
    "\n",
    "sys.path.append('/Users/JPM/OpenMDAO/FUSED-Wake/FortranWake/build/lib.macosx-10.10-intel-2.7/FortranWake/')\n",
    "import NOJ"
   ]
  },
  {
   "cell_type": "code",
   "execution_count": 2,
   "metadata": {
    "collapsed": false
   },
   "outputs": [
    {
     "data": {
      "text/plain": [
       "[<matplotlib.lines.Line2D at 0x10a67a2d0>]"
      ]
     },
     "execution_count": 2,
     "metadata": {},
     "output_type": "execute_result"
    },
    {
     "data": {
      "image/png": "[encoded data removed]",
      "text/plain": [
       "<matplotlib.figure.Figure at 0x10a67a310>"
      ]
     },
     "metadata": {},
     "output_type": "display_data"
    }
   ],
   "source": [
    "x = np.linspace(0.,12.)\n",
    "y = np.zeros_like(x)\n",
    "z = np.zeros_like(x)\n",
    "DT = 1.*np.ones_like(x)\n",
    "D = 1.\n",
    "CT = 0.861\n",
    "kj = 0.04\n",
    "\n",
    "RW = NOJ.get_rw(x,D,CT,kj)\n",
    "dUeq = NOJ.get_dueq(x,y,z,DT,D,CT,kj)\n",
    "\n",
    "WS = 10.\n",
    "U = WS + WS*dUeq\n",
    "\n",
    "#print U\n",
    "plt.plot(x/D,RW)\n",
    "plt.plot(x/D,U)"
   ]
  },
  {
   "cell_type": "markdown",
   "metadata": {},
   "source": [
    "x_g : input rank-2 array('d') with bounds (n,n)\n",
    "\n",
    "y_g : input rank-2 array('d') with bounds (n,n)\n",
    "\n",
    "z_g : input rank-2 array('d') with bounds (n,n)\n",
    "\n",
    "dt : input rank-1 array('d') with bounds (n)\n",
    "\n",
    "p_c : input rank-3 array('d') with bounds (n,np,2)\n",
    "\n",
    "ct_c : input rank-3 array('d') with bounds (n,nct,2)\n",
    "\n",
    "ws : input float\n",
    "\n",
    "wd : input float\n",
    "    "
   ]
  },
  {
   "cell_type": "code",
   "execution_count": 3,
   "metadata": {
    "collapsed": false
   },
   "outputs": [
    {
     "name": "stderr",
     "output_type": "stream",
     "text": [
      ":0: FutureWarning: IPython widgets are experimental and may change in the future.\n"
     ]
    }
   ],
   "source": [
    "# Fused wrapped Fortran wake models\n",
    "from FortranWake.fused_fortran import FNOJ, FGCL, AEP_f, get_T2T_gl_coord\n",
    "from FortranWake.fusedwasp import PlantFromWWH, WTDescFromWTG\n",
    "\n",
    "# FusedWind\n",
    "from fusedwind.plant_flow.vt import GenericWindFarmTurbineLayout, WTPC, WeibullWindRoseVT, GenericWindRoseVT"
   ]
  },
  {
   "cell_type": "code",
   "execution_count": 4,
   "metadata": {
    "collapsed": false
   },
   "outputs": [
    {
     "name": "stdout",
     "output_type": "stream",
     "text": [
      "1\n"
     ]
    }
   ],
   "source": [
    "wt_layout = PlantFromWWH('hornsrev1_turbine_nodescription.wwh').wt_layout\n",
    "P_rated = np.sum(wt_layout.wt_array('power_rating'))"
   ]
  },
  {
   "cell_type": "code",
   "execution_count": 5,
   "metadata": {
    "collapsed": false
   },
   "outputs": [],
   "source": [
    "for wt in wt_layout.wt_list:\n",
    "    wt.air_density = 1.225\n",
    "    wt.cut_in_wind_speed = 3.\n",
    "    wt.cut_out_wind_speed = 25.\n",
    "    wt.c_t_idle = 0.053\n",
    "    wt.power_rating = 3600.  \n",
    "    if  wt.name[-2]=='t':\n",
    "        wt.name = 'wt0'+wt.name[-1]"
   ]
  },
  {
   "cell_type": "code",
   "execution_count": 6,
   "metadata": {
    "collapsed": false
   },
   "outputs": [],
   "source": [
    "x_g,y_g,z_g=get_T2T_gl_coord(wt_layout)\n",
    "# Run the wind flow case\n",
    "dt = wt_layout.wt_array(attr='rotor_diameter')\n",
    "p_c = wt_layout.wt_array(attr='power_curve')\n",
    "ct_c = wt_layout.wt_array(attr='c_t_curve')\n",
    "ws = 10.\n",
    "wd = 270.\n",
    "kj = 0.05\n",
    "rho = np.mean(wt_layout.wt_array(attr='air_density'))\n",
    "ws_ci = wt_layout.wt_array(attr='cut_in_wind_speed')\n",
    "ws_co = wt_layout.wt_array(attr='cut_out_wind_speed'),\n",
    "ct_idle = wt_layout.wt_array(attr='c_t_idle')"
   ]
  },
  {
   "cell_type": "code",
   "execution_count": 7,
   "metadata": {
    "collapsed": false
   },
   "outputs": [
    {
     "data": {
      "text/plain": [
       "(array([  507060.82839362,   555326.02727073,   583641.37382167,\n",
       "          583830.94836446,   497978.75037802,   534664.83431828,\n",
       "          534664.83431828,   535259.51799703,   534742.20473325,\n",
       "          555138.204082  ,   535293.81867477,   535293.81867477,\n",
       "          534893.55000989,   507146.74194007,   555138.204082  ,\n",
       "          507155.94508723,   507751.15317542,   507081.41562327,\n",
       "          507282.5151477 ,   697328.1723954 ,   697328.1723954 ,\n",
       "          697466.5171388 ,   697466.5171388 ,   697328.1723954 ,\n",
       "          697328.1723954 ,   697328.1723954 ,   583830.94836446,\n",
       "          583830.94836446,   584228.08015724,   584228.08015724,\n",
       "          697466.5171388 ,   583641.37382167,   583641.37382167,\n",
       "         1341000.        ,   507060.82839362,  1341000.        ,\n",
       "         1341000.        ,  1341000.        ,  1341000.        ,\n",
       "         1341000.        ,  1341000.        ,  1341000.        ,\n",
       "          519890.04117391,   497911.24866514,   519410.79538966,\n",
       "          519410.79538966,   519828.05492965,   626871.27524913,\n",
       "          519393.48983052,   519195.00710756,   519195.00710756,\n",
       "          497267.30842074,   497311.46718329,   497862.14370372,\n",
       "          497367.80733264,   497874.27416629,   497519.28685457,\n",
       "          555805.35291934,   872323.5513329 ,   555138.204082  ,\n",
       "          872323.5513329 ,   872323.5513329 ,   872323.5513329 ,\n",
       "          872323.5513329 ,   872862.20213952,   872862.20213952,\n",
       "          626263.40239415,   872862.20213952,   626263.40239415,\n",
       "          555212.98813024,   626871.27524913,   626871.27524913,\n",
       "          626263.40239415,   626263.40239415,   555326.02727073,\n",
       "          519232.72128326,   507312.55970077,   626263.40239415,\n",
       "          555212.98813024,   534742.20473325]),\n",
       " array([ 128491.15867535,  135929.45497088,  140391.52349813,\n",
       "         140421.6426451 ,  127115.09353052,  132719.44639493,\n",
       "         132719.44639493,  132811.29798202,  132731.39479174,\n",
       "         135900.09965274,  132816.59685489,  132816.59685489,\n",
       "         132754.76877534,  128504.21149407,  135900.09965274,\n",
       "         128505.60976505,  128596.05841081,  128494.28642589,\n",
       "         128524.84083946,  158991.49694253,  158991.49694253,\n",
       "         159009.90800654,  159009.90800654,  158991.49694253,\n",
       "         158991.49694253,  158991.49694253,  140421.6426451 ,\n",
       "         140421.6426451 ,  140484.74855708,  140484.74855708,\n",
       "         159009.90800654,  140391.52349813,  140391.52349813,\n",
       "         244145.73148108,  128491.15867535,  244145.73148108,\n",
       "         244145.73148108,  244145.73148108,  244145.73148108,\n",
       "         244145.73148108,  244145.73148108,  244145.73148108,\n",
       "         130447.70439859,  127104.89403111,  130374.3478411 ,\n",
       "         130374.3478411 ,  130438.21519841,  147344.20233657,\n",
       "         130371.69932614,  130341.32464307,  130341.32464307,\n",
       "         127007.61550268,  127014.28526264,  127097.47453767,\n",
       "         127022.79516139,  127099.30736448,  127045.67681421,\n",
       "         136004.38437769,  183141.1198705 ,  135900.09965274,\n",
       "         183141.1198705 ,  183141.1198705 ,  183141.1198705 ,\n",
       "         183141.1198705 ,  183218.11703418,  183218.11703418,\n",
       "         147245.26222072,  183218.11703418,  147245.26222072,\n",
       "         135911.78744036,  147344.20233657,  147344.20233657,\n",
       "         147245.26222072,  147245.26222072,  135929.45497088,\n",
       "         130347.09593432,  128529.40602664,  147245.26222072,\n",
       "         135911.78744036,  132731.39479174]),\n",
       " array([  7.19941029,   7.40392384,   7.52390413,   7.52470741,\n",
       "          7.16092691,   7.31637642,   7.31637642,   7.31889626,\n",
       "          7.31670426,   7.40312798,   7.3190416 ,   7.3190416 ,\n",
       "          7.31734555,   7.19977433,   7.40312798,   7.19981333,\n",
       "          7.20233539,   7.19949752,   7.20034964,   8.00442724,\n",
       "          8.00442724,   8.00488839,   8.00488839,   8.00442724,\n",
       "          8.00442724,   8.00442724,   7.52470741,   7.52470741,\n",
       "          7.52639017,   7.52639017,   8.00488839,   7.52390413,\n",
       "          7.52390413,  10.        ,   7.19941029,  10.        ,\n",
       "         10.        ,  10.        ,  10.        ,  10.        ,\n",
       "         10.        ,  10.        ,   7.25377136,   7.16064088,\n",
       "          7.25174066,   7.25174066,   7.25350871,   7.70708167,\n",
       "          7.25166733,   7.2508263 ,   7.2508263 ,   7.15791232,\n",
       "          7.15809944,   7.16043281,   7.15833817,   7.16048421,\n",
       "          7.15898003,   7.40595489,   8.58774517,   7.40312798,\n",
       "          8.58774517,   8.58774517,   8.58774517,   8.58774517,\n",
       "          8.58954067,   8.58954067,   7.70450594,   8.58954067,\n",
       "          7.70450594,   7.40344486,   7.70708167,   7.70708167,\n",
       "          7.70450594,   7.70450594,   7.40392384,   7.25098611,\n",
       "          7.20047695,   7.70450594,   7.40344486,   7.31670426]))"
      ]
     },
     "execution_count": 7,
     "metadata": {},
     "output_type": "execute_result"
    }
   ],
   "source": [
    "\n",
    "NOJ.noj_s(x_g,y_g,z_g,dt,p_c,ct_c,ws,wd,kj,rho,ws_ci,ws_co,ct_idle)"
   ]
  },
  {
   "cell_type": "code",
   "execution_count": null,
   "metadata": {
    "collapsed": true
   },
   "outputs": [],
   "source": []
  }
 ],
 "metadata": {
  "kernelspec": {
   "display_name": "Python 2",
   "language": "python",
   "name": "python2"
  },
  "language_info": {
   "codemirror_mode": {
    "name": "ipython",
    "version": 2
   },
   "file_extension": ".py",
   "mimetype": "text/x-python",
   "name": "python",
   "nbconvert_exporter": "python",
   "pygments_lexer": "ipython2",
   "version": "2.7.10"
  }
 },
 "nbformat": 4,
 "nbformat_minor": 0
}

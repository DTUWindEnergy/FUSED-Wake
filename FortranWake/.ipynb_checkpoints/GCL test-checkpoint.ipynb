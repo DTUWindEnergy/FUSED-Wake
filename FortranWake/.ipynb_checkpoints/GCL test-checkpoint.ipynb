{
 "cells": [
  {
   "cell_type": "code",
   "execution_count": 1,
   "metadata": {
    "collapsed": false
   },
   "outputs": [],
   "source": [
    "%matplotlib inline\n",
    "import matplotlib.pyplot as plt\n",
    "import numpy as np\n",
    "import GCL as f_gcl\n",
    "import GCLarsen as gcl\n",
    "import WindTurbine as wt\n",
    "import WindFarm as wf"
   ]
  },
  {
   "cell_type": "code",
   "execution_count": 2,
   "metadata": {
    "collapsed": false
   },
   "outputs": [],
   "source": [
    "D=np.float64(50.)\n",
    "R=D/2.\n",
    "CT=np.float64(0.05)\n",
    "TI=np.float64(0.07)\n",
    "x=np.float64(50.)\n",
    "r=np.float64(20.)\n",
    "x_a = np.linspace(-20.,200.,20)\n",
    "r_a = np.linspace(0.,40.,20)"
   ]
  },
  {
   "cell_type": "code",
   "execution_count": 3,
   "metadata": {
    "collapsed": false
   },
   "outputs": [
    {
     "data": {
      "text/plain": [
       "52.05707252459255"
      ]
     },
     "execution_count": 3,
     "metadata": {},
     "output_type": "execute_result"
    }
   ],
   "source": [
    "f_gcl.get_r96(d=D,ct=CT,ti=TI)"
   ]
  },
  {
   "cell_type": "code",
   "execution_count": 4,
   "metadata": {
    "collapsed": false
   },
   "outputs": [
    {
     "data": {
      "text/plain": [
       "52.057072524592549"
      ]
     },
     "execution_count": 4,
     "metadata": {},
     "output_type": "execute_result"
    }
   ],
   "source": [
    "gcl.get_R96(R=R,CT=CT,TI=TI)"
   ]
  },
  {
   "cell_type": "code",
   "execution_count": 5,
   "metadata": {
    "collapsed": false
   },
   "outputs": [
    {
     "name": "stdout",
     "output_type": "stream",
     "text": [
      "[ 22.04687623  23.94836298  25.58804206  27.04084826  28.35236013\n",
      "  29.55261229  30.662567    31.69750267  32.6689392   33.58580285\n",
      "  34.45516711  35.28274363  36.07321858  36.83048997  37.55783916\n",
      "  38.25805755  38.93354183  39.58636691  40.21834248  40.8310575 ]\n",
      "61.1038591721 0.552027695478\n"
     ]
    }
   ],
   "source": [
    "rw, xt_st, c1 = f_gcl.get_rw(x=x_a,d=D,ti=TI,ct=CT)\n",
    "print rw\n",
    "print xt_st, c1"
   ]
  },
  {
   "cell_type": "code",
   "execution_count": 6,
   "metadata": {
    "collapsed": false
   },
   "outputs": [
    {
     "name": "stdout",
     "output_type": "stream",
     "text": [
      "[ 22.04687623  23.94836298  25.58804206  27.04084826  28.35236013\n",
      "  29.55261229  30.662567    31.69750267  32.6689392   33.58580285\n",
      "  34.45516711  35.28274363  36.07321858  36.83048997  37.55783916\n",
      "  38.25805755  38.93354183  39.58636691  40.21834248  40.8310575 ]\n"
     ]
    }
   ],
   "source": [
    "RW=gcl.get_Rw(x=x_a,R=R,TI=TI,CT=CT)\n",
    "print RW"
   ]
  },
  {
   "cell_type": "code",
   "execution_count": 7,
   "metadata": {
    "collapsed": false
   },
   "outputs": [],
   "source": [
    "np.testing.assert_almost_equal(rw,RW,decimal=4) "
   ]
  },
  {
   "cell_type": "code",
   "execution_count": 8,
   "metadata": {
    "collapsed": false
   },
   "outputs": [
    {
     "name": "stdout",
     "output_type": "stream",
     "text": [
      "1000 loops, best of 3: 264 µs per loop\n"
     ]
    }
   ],
   "source": [
    "%timeit f_gcl.get_du(x=np.linspace(-1.,10.,1000),r=r*np.ones(1000),d=D,ct=CT,ti=TI)\n",
    "#f_gcl.get_du(x=x_a,r=r_a,d=D,ct=CT,ti=TI)"
   ]
  },
  {
   "cell_type": "code",
   "execution_count": 9,
   "metadata": {
    "collapsed": false,
    "scrolled": false
   },
   "outputs": [
    {
     "name": "stdout",
     "output_type": "stream",
     "text": [
      "1000 loops, best of 3: 204 µs per loop\n"
     ]
    }
   ],
   "source": [
    "%timeit gcl.get_dU(x=np.linspace(-1.,10.,1000),r=r*np.ones(1000), \\\n",
    "                   Rw=gcl.get_Rw(x=np.linspace(-1.,10.,1000),R=R,TI=TI,CT=CT), U=1., R=R, TI=TI, CT=CT)\n",
    "#gcl.get_dU(x=x_a,r=r_a,Rw=RW, U=1., R=R, TI=TI, CT=CT)"
   ]
  },
  {
   "cell_type": "code",
   "execution_count": 10,
   "metadata": {
    "collapsed": false
   },
   "outputs": [],
   "source": [
    "x=np.linspace(-20.,200.,80)\n",
    "y=0.*np.linspace(-1.,1.,80)\n",
    "z=np.zeros_like(x)\n",
    "DT=D*np.ones_like(x)"
   ]
  },
  {
   "cell_type": "code",
   "execution_count": 11,
   "metadata": {
    "collapsed": false
   },
   "outputs": [
    {
     "data": {
      "text/plain": [
       "array([ 0.        ,  0.        ,  0.        ,  0.        ,  0.        ,\n",
       "        0.        ,  0.        ,  0.        , -0.02499705, -0.02499325,\n",
       "       -0.02498497, -0.02497137, -0.02495206, -0.02492689, -0.02489595,\n",
       "       -0.02485944, -0.02481762, -0.02477082, -0.02471938, -0.02466367,\n",
       "       -0.02460402, -0.02454079, -0.02447429, -0.02440484, -0.02433274,\n",
       "       -0.02425825, -0.02418164, -0.02410313, -0.02402296, -0.02394131,\n",
       "       -0.02385838, -0.02377433, -0.02368933, -0.02360352, -0.02351703,\n",
       "       -0.02342998, -0.02334248, -0.02325464, -0.02316654, -0.02307827,\n",
       "       -0.02298991, -0.02290152, -0.02281318, -0.02272493, -0.02263684,\n",
       "       -0.02254895, -0.02246129, -0.02237393, -0.02228688, -0.02220018,\n",
       "       -0.02211386, -0.02202794, -0.02194246, -0.02185742, -0.02177285,\n",
       "       -0.02168878, -0.0216052 , -0.02152213, -0.0214396 , -0.02135759,\n",
       "       -0.02127614, -0.02119523, -0.02111489, -0.0210351 , -0.02095589,\n",
       "       -0.02087725, -0.02079919, -0.0207217 , -0.02064479, -0.02056846,\n",
       "       -0.02049271, -0.02041754, -0.02034295, -0.02026893, -0.0201955 ,\n",
       "       -0.02012263, -0.02005034, -0.01997861, -0.01990746, -0.01983686])"
      ]
     },
     "execution_count": 11,
     "metadata": {},
     "output_type": "execute_result"
    }
   ],
   "source": [
    "dueq = f_gcl.get_dueq(x=x,y=y,z=z,dt=DT,d=D,ct=CT,ti=TI)\n",
    "dueq"
   ]
  },
  {
   "cell_type": "code",
   "execution_count": 12,
   "metadata": {
    "collapsed": false
   },
   "outputs": [
    {
     "data": {
      "text/plain": [
       "[<matplotlib.lines.Line2D at 0x10b59e750>]"
      ]
     },
     "execution_count": 12,
     "metadata": {},
     "output_type": "execute_result"
    },
    {
     "data": {
      "image/png": "[encoded data removed]",
      "text/plain": [
       "<matplotlib.figure.Figure at 0x107dffc50>"
      ]
     },
     "metadata": {},
     "output_type": "display_data"
    }
   ],
   "source": [
    "plt.plot(x,dueq,'o-')"
   ]
  },
  {
   "cell_type": "code",
   "execution_count": 13,
   "metadata": {
    "collapsed": false
   },
   "outputs": [
    {
     "data": {
      "text/plain": [
       "50.0"
      ]
     },
     "execution_count": 13,
     "metadata": {},
     "output_type": "execute_result"
    }
   ],
   "source": [
    "f_gcl.interp_l(xa=x,ya=2.*x,x=25.)"
   ]
  },
  {
   "cell_type": "markdown",
   "metadata": {},
   "source": [
    "##GCL"
   ]
  },
  {
   "cell_type": "code",
   "execution_count": 14,
   "metadata": {
    "collapsed": true
   },
   "outputs": [],
   "source": [
    "v80 = wt.WindTurbine('V80 2MW offshore','V80_2MW_offshore.dat',70,40)\n",
    "HR1 = wf.WindFarm('Horns Rev 1 case','HR_coordinates.dat',v80)\n",
    "#HR1 = wf.WindFarm('Horns Rev 1 case','HR_row_7_coordinates.dat',v80)"
   ]
  },
  {
   "cell_type": "code",
   "execution_count": 15,
   "metadata": {
    "collapsed": false
   },
   "outputs": [
    {
     "data": {
      "text/plain": [
       "(<matplotlib.figure.Figure at 0x107dfc8d0>,\n",
       " <matplotlib.axes._subplots.AxesSubplot at 0x10b571910>)"
      ]
     },
     "execution_count": 15,
     "metadata": {},
     "output_type": "execute_result"
    },
    {
     "data": {
      "image/png": "[encoded data removed]",
      "text/plain": [
       "<matplotlib.figure.Figure at 0x107dfc8d0>"
      ]
     },
     "metadata": {},
     "output_type": "display_data"
    }
   ],
   "source": [
    "HR1.plot(WT_num=True)"
   ]
  },
  {
   "cell_type": "code",
   "execution_count": 16,
   "metadata": {
    "collapsed": false
   },
   "outputs": [
    {
     "data": {
      "text/plain": [
       "(2, 80, 80)"
      ]
     },
     "execution_count": 16,
     "metadata": {},
     "output_type": "execute_result"
    }
   ],
   "source": [
    "np.shape(HR1.vectWTtoWT)"
   ]
  },
  {
   "cell_type": "code",
   "execution_count": 134,
   "metadata": {
    "collapsed": false
   },
   "outputs": [
    {
     "name": "stdout",
     "output_type": "stream",
     "text": [
      "x_g\n",
      "[    0.    59.   118.   177.   236.   294.   353.   412.   560.   619.\n",
      "   678.   737.   796.   855.   914.   973.  1120.  1179.  1238.  1297.\n",
      "  1356.  1415.  1474.  1533.  1680.  1739.  1798.  1857.  1916.  1976.\n",
      "  2035.  2094.  2240.  2299.  2358.  2418.  2477.  2536.  2595.  2654.\n",
      "  2800.  2859.  2918.  2978.  3037.  3096.  3155.  3215.  3360.  3419.\n",
      "  3479.  3538.  3597.  3657.  3716.  3775.  3920.  3979.  4039.  4098.\n",
      "  4158.  4217.  4276.  4336.  4480.  4539.  4599.  4658.  4718.  4777.\n",
      "  4837.  4896.  5040.  5100.  5159.  5219.  5278.  5338.  5397.  5457.]\n",
      "y_g\n",
      "[    0.  -558. -1115. -1673. -2231. -2789. -3346. -3904.     0.  -558.\n",
      " -1115. -1673. -2231. -2789. -3346. -3904.     0.  -558. -1115. -1673.\n",
      " -2231. -2789. -3346. -3904.     0.  -558. -1115. -1673. -2231. -2788.\n",
      " -3346. -3904.     0.  -558. -1115. -1673. -2231. -2788. -3346. -3904.\n",
      "     0.  -558. -1115. -1673. -2231. -2788. -3346. -3904.     0.  -558.\n",
      " -1115. -1673. -2231. -2788. -3346. -3904.     0.  -558. -1115. -1673.\n",
      " -2231. -2788. -3346. -3904.     0.  -558. -1115. -1673. -2231. -2788.\n",
      " -3346. -3904.     0.  -558. -1115. -1673. -2231. -2788. -3346. -3904.]\n",
      "rw\n",
      "[  51.19575973   60.47198897   67.53978353   73.37508132   78.40581776\n",
      "   82.79093394   86.82027493   90.50675891   98.63148561  101.52519152\n",
      "  104.26272509  106.86359183  109.34366912  111.71607404  113.99178311\n",
      "  116.18008504  121.30119454  123.23990077  125.11945761  126.94418011\n",
      "  128.71790069  130.4440404   132.12566725  133.76554449  137.68546295\n",
      "  139.19772592  140.67782517  142.12741821  143.54802994  144.9644477\n",
      "  146.33077549  147.67205342  150.89044093  152.15288704  153.39472415\n",
      "  154.63732001  155.84003515  157.02446722  158.19129557  159.34116008\n",
      "  162.11744948  163.21285301  164.29374705  165.37856667  166.43160448\n",
      "  167.47148284  168.49860532  169.53045073  171.97355382  172.94805607\n",
      "  173.92793947  174.88084295  175.82347357  176.77182644  177.69455451\n",
      "  178.60779778  180.81340395  181.69564296  182.58413402  183.4494647\n",
      "  184.32116891  185.17037877  186.01187015  186.85988669  188.86432553\n",
      "  189.67343212  190.48923354  191.28468133  192.08688311  192.86923433\n",
      "  193.65838944  194.42817018  196.28180017  197.04391222  197.78761713\n",
      "  198.5382347   199.27084823  200.01039515  200.73232179  201.46119743]\n"
     ]
    }
   ],
   "source": [
    "c2c_vec = HR1.vectWTtoWT\n",
    "x_g = c2c_vec[0,:,:]\n",
    "y_g = c2c_vec[1,:,:]\n",
    "z_g = np.zeros([HR1.nWT,HR1.nWT])\n",
    "dt = (HR1.WT.R*2.)*np.ones([HR1.nWT])\n",
    "nu = 22\n",
    "u_c = np.linspace(v80.u_cutin,v80.u_cutout,nu)\n",
    "p_c = np.array([[[u_c[i],v80.PCI(u_c[i])] for i in range(nu)] \\\n",
    "      for j in range(HR1.nWT)])\n",
    "ct_c = np.array([[[u_c[i],v80.CTCI(u_c[i])] for i in range(nu)]\\\n",
    "      for j in range(HR1.nWT)])\n",
    "ws = 9.0\n",
    "ti = 0.05\n",
    "\n",
    "ct = f_gcl.interp_l(ct_c[0,:,0],ct_c[0,:,1],ws)\n",
    "rw, x_st, c1 = f_gcl.get_rw(x=x_g[0,:],d=dt[0],ti=ti,ct=ct)\n",
    "\n",
    "print 'x_g'\n",
    "print x_g[0,:]\n",
    "print 'y_g'\n",
    "print y_g[0,:]\n",
    "print 'rw'\n",
    "print rw"
   ]
  },
  {
   "cell_type": "code",
   "execution_count": 135,
   "metadata": {
    "collapsed": false
   },
   "outputs": [
    {
     "data": {
      "text/plain": [
       "array([[  4.00000000e+00,   6.66000000e+04],\n",
       "       [  5.00000000e+00,   1.54000000e+05],\n",
       "       [  6.00000000e+00,   2.82000000e+05],\n",
       "       [  7.00000000e+00,   4.60000000e+05],\n",
       "       [  8.00000000e+00,   6.96000000e+05],\n",
       "       [  9.00000000e+00,   9.96000000e+05],\n",
       "       [  1.00000000e+01,   1.34100000e+06],\n",
       "       [  1.10000000e+01,   1.66100000e+06],\n",
       "       [  1.20000000e+01,   1.86600000e+06],\n",
       "       [  1.30000000e+01,   1.95800000e+06],\n",
       "       [  1.40000000e+01,   1.98800000e+06],\n",
       "       [  1.50000000e+01,   1.99700000e+06],\n",
       "       [  1.60000000e+01,   1.99900000e+06],\n",
       "       [  1.70000000e+01,   2.00000000e+06],\n",
       "       [  1.80000000e+01,   2.00000000e+06],\n",
       "       [  1.90000000e+01,   2.00000000e+06],\n",
       "       [  2.00000000e+01,   2.00000000e+06],\n",
       "       [  2.10000000e+01,   2.00000000e+06],\n",
       "       [  2.20000000e+01,   2.00000000e+06],\n",
       "       [  2.30000000e+01,   2.00000000e+06],\n",
       "       [  2.40000000e+01,   2.00000000e+06],\n",
       "       [  2.50000000e+01,   2.00000000e+06]])"
      ]
     },
     "execution_count": 135,
     "metadata": {},
     "output_type": "execute_result"
    }
   ],
   "source": [
    "p_c[0]"
   ]
  },
  {
   "cell_type": "code",
   "execution_count": 174,
   "metadata": {
    "collapsed": false
   },
   "outputs": [
    {
     "name": "stdout",
     "output_type": "stream",
     "text": [
      "u\n",
      "[ 9.          9.          9.          9.          9.          9.          9.\n",
      "  9.          8.10475989  8.10475989  8.10475989  8.10475989  8.10475989\n",
      "  8.10714828  8.10714828  8.10714828  8.0340415   8.0340415   8.0340415\n",
      "  8.0340415   8.0340415   8.03436527  8.03436527  8.03436527  8.04467538\n",
      "  8.04467538  8.04467538  8.04467538  8.04467538  8.01688821  8.0474157\n",
      "  8.0474157   8.04631712  8.04631712  8.04631712  8.04903369  8.04903369\n",
      "  8.04172037  8.04661393  8.04661393  8.04606914  8.04606914  8.04606914\n",
      "  8.04637786  8.04637786  8.04593088  8.04606775  8.04878459  8.04604738\n",
      "  8.04604738  8.04876448  8.04604584  8.04604584  8.04890494  8.04875497\n",
      "  8.04634679  8.04605153  8.04605153  8.04636041  8.04604181  8.04875895\n",
      "  8.046356    8.04636093  8.04876748  8.02550672  8.02412787  8.02537306\n",
      "  8.02537513  8.02541865  8.0251058   8.02769155  8.04635124  7.87911148\n",
      "  7.87688511  7.87869147  7.88098897  7.87799112  7.88026987  7.87788048\n",
      "  8.04876775]\n",
      "p\n",
      "[ 996000.          996000.          996000.          996000.          996000.\n",
      "  996000.          996000.          996000.          727427.96729232\n",
      "  727427.96729232  727427.96729232  727427.96729232  727427.96729232\n",
      "  728144.48452204  728144.48452204  728144.48452204  706212.44898255\n",
      "  706212.44898255  706212.44898255  706212.44898255  706212.44898255\n",
      "  706309.58036236  706309.58036236  706309.58036236  709402.61330371\n",
      "  709402.61330371  709402.61330371  709402.61330371  709402.61330371\n",
      "  701066.46385182  710224.70925476  710224.70925476  709895.1371129\n",
      "  709895.1371129   709895.1371129   710710.10777634  710710.10777634\n",
      "  708516.11009581  709984.17885061  709984.17885061  709820.7428836\n",
      "  709820.7428836   709820.7428836   709913.35930331  709913.35930331\n",
      "  709779.26462598  709820.32504626  710635.37581611  709814.21474567\n",
      "  709814.21474567  710629.34389851  709813.75286155  709813.75286155\n",
      "  710671.48107954  710626.4918917   709904.0357471   709815.45786818\n",
      "  709815.45786818  709908.12328911  709812.54197187  710627.68398693\n",
      "  709906.80059077  709908.27814614  710630.2425646   703652.01499363\n",
      "  703238.36224183  703611.91949088  703612.54038725  703625.59645454\n",
      "  703531.73878318  704307.4643554   709905.37111683  667470.30890079\n",
      "  666944.88673363  667371.18584381  667913.39625623  667205.90457184\n",
      "  667743.68934377  667179.79320678  710630.32611433]\n",
      "t\n",
      "[ 201249.35724746  201249.35724746  201249.35724746  201249.35724746\n",
      "  201249.35724746  201249.35724746  201249.35724746  201249.35724746\n",
      "  163022.57180541  163022.57180541  163022.57180541  163022.57180541\n",
      "  163022.57180541  163119.15146959  163119.15146959  163119.15146959\n",
      "  160176.01084246  160176.01084246  160176.01084246  160176.01084246\n",
      "  160176.01084246  160188.98561028  160188.98561028  160188.98561028\n",
      "  160602.4291163   160602.4291163   160602.4291163   160602.4291163\n",
      "  160602.4291163   159489.37113503  160712.4086146   160712.4086146\n",
      "  160668.31408796  160668.31408796  160668.31408796  160777.36278394\n",
      "  160777.36278394  160483.87585291  160680.22666874  160680.22666874\n",
      "  160658.36148775  160658.36148775  160658.36148775  160670.7519344\n",
      "  160670.7519344   160652.81258344  160658.30558956  160767.36157638\n",
      "  160657.48815601  160657.48815601  160766.55435232  160657.42636543\n",
      "  160657.42636543  160772.1934221   160766.17268196  160669.50458486\n",
      "  160657.65446027  160657.65446027  160670.051435    160657.26437337\n",
      "  160766.33221428  160669.87447824  160670.07215251  160766.67461658\n",
      "  159834.18053509  159778.99049135  159828.83052406  159828.91337063\n",
      "  159830.65545439  159818.13214725  159921.65107733  160669.68323666\n",
      "  154028.23457041  153940.77545044  154011.73312783  154102.0081441\n",
      "  153984.22002685  154073.7500164   153979.8736959   160766.68579765]\n"
     ]
    }
   ],
   "source": [
    "wd=265.\n",
    "dist,idt = HR1.turbineDistance(wd)\n",
    "p,t,u = f_gcl.gcl_s(x_g,y_g,z_g,dt,p_c,ct_c,ws,wd,ti)#,ng=7)\n",
    "\n",
    "print 'u'\n",
    "print u\n",
    "print 'p'\n",
    "print p\n",
    "print 't'\n",
    "print t"
   ]
  },
  {
   "cell_type": "code",
   "execution_count": 175,
   "metadata": {
    "collapsed": false
   },
   "outputs": [],
   "source": [
    "pp, uu, ctt = gcl.GCLarsen_v0(WF=HR1,WS=ws,WD=wd,TI=ti,inflow='uni')"
   ]
  },
  {
   "cell_type": "code",
   "execution_count": 176,
   "metadata": {
    "collapsed": false
   },
   "outputs": [
    {
     "data": {
      "text/plain": [
       "array([ 9.        ,  9.        ,  9.        ,  9.        ,  9.        ,\n",
       "        9.        ,  9.        ,  9.        ,  8.10475989,  8.10475989,\n",
       "        8.10475989,  8.10475989,  8.10475989,  8.10714828,  8.10714828,\n",
       "        8.10714828,  8.0340415 ,  8.0340415 ,  8.0340415 ,  8.0340415 ,\n",
       "        8.0340415 ,  8.03436527,  8.03436527,  8.03436527,  8.04467538,\n",
       "        8.04467538,  8.04467538,  8.04467538,  8.04467538,  8.01688821,\n",
       "        8.0474157 ,  8.0474157 ,  8.04631712,  8.04631712,  8.04631712,\n",
       "        8.04903369,  8.04903369,  8.04172037,  8.04661393,  8.04661393,\n",
       "        8.04606914,  8.04606914,  8.04606914,  8.04637786,  8.04637786,\n",
       "        8.04593088,  8.04606775,  8.04878459,  8.04604738,  8.04604738,\n",
       "        8.04876448,  8.04604584,  8.04604584,  8.04890494,  8.04875497,\n",
       "        8.04634679,  8.04605153,  8.04605153,  8.04636041,  8.04604181,\n",
       "        8.04875895,  8.046356  ,  8.04636093,  8.04876748,  8.02550672,\n",
       "        8.02412787,  8.02537306,  8.02537513,  8.02541865,  8.0251058 ,\n",
       "        8.02769155,  8.04635124,  7.87911148,  7.87688511,  7.87869147,\n",
       "        7.88098897,  7.87799112,  7.88026987,  7.87788048,  8.04876775])"
      ]
     },
     "execution_count": 176,
     "metadata": {},
     "output_type": "execute_result"
    }
   ],
   "source": [
    "u"
   ]
  },
  {
   "cell_type": "code",
   "execution_count": 177,
   "metadata": {
    "collapsed": false
   },
   "outputs": [
    {
     "data": {
      "text/plain": [
       "array([ 9.        ,  9.        ,  9.        ,  9.        ,  9.        ,\n",
       "        9.        ,  9.        ,  9.        ,  8.10475989,  8.10475989,\n",
       "        8.10475989,  8.10475989,  8.10475989,  8.10714828,  8.10714828,\n",
       "        8.10714828,  8.0340415 ,  8.0340415 ,  8.0340415 ,  8.0340415 ,\n",
       "        8.0340415 ,  8.03436527,  8.03436527,  8.03436527,  8.04467538,\n",
       "        8.04467538,  8.04467538,  8.04467538,  8.04467538,  8.01688821,\n",
       "        8.0474157 ,  8.0474157 ,  8.04631712,  8.04631712,  8.04631712,\n",
       "        8.04903369,  8.04903369,  8.04172037,  8.04661393,  8.04661393,\n",
       "        8.04606914,  8.04606914,  8.04606914,  8.04637786,  8.04637786,\n",
       "        8.04593088,  8.04606775,  8.04878459,  8.04604738,  8.04604738,\n",
       "        8.04876448,  8.04604584,  8.04604584,  8.04890494,  8.04875497,\n",
       "        8.04634679,  8.04605153,  8.04605153,  8.04636041,  8.04604181,\n",
       "        8.04875895,  8.046356  ,  8.04636093,  8.04876748,  8.02550672,\n",
       "        8.02412787,  8.02537306,  8.02537513,  8.02541865,  8.0251058 ,\n",
       "        8.02769155,  8.04635124,  7.87911148,  7.87688511,  7.87869147,\n",
       "        7.88098897,  7.87799112,  7.88026987,  7.87788048,  8.04876775])"
      ]
     },
     "execution_count": 177,
     "metadata": {},
     "output_type": "execute_result"
    }
   ],
   "source": [
    "uu"
   ]
  },
  {
   "cell_type": "code",
   "execution_count": 178,
   "metadata": {
    "collapsed": false
   },
   "outputs": [
    {
     "data": {
      "text/plain": [
       "[<matplotlib.lines.Line2D at 0x10d79fed0>]"
      ]
     },
     "execution_count": 178,
     "metadata": {},
     "output_type": "execute_result"
    },
    {
     "data": {
      "image/png": "[encoded data removed]",
      "text/plain": [
       "<matplotlib.figure.Figure at 0x10d723190>"
      ]
     },
     "metadata": {},
     "output_type": "display_data"
    }
   ],
   "source": [
    "plt.plot(u,uu,'ok')\n",
    "plt.plot(u,u,'-r')"
   ]
  },
  {
   "cell_type": "code",
   "execution_count": 179,
   "metadata": {
    "collapsed": false
   },
   "outputs": [
    {
     "data": {
      "text/plain": [
       "array([  0.00000000e+00,   0.00000000e+00,   0.00000000e+00,\n",
       "         0.00000000e+00,   0.00000000e+00,   0.00000000e+00,\n",
       "         0.00000000e+00,   0.00000000e+00,   0.00000000e+00,\n",
       "         0.00000000e+00,   0.00000000e+00,   0.00000000e+00,\n",
       "         0.00000000e+00,   0.00000000e+00,   0.00000000e+00,\n",
       "         0.00000000e+00,   2.21103767e-16,   2.21103767e-16,\n",
       "         2.21103767e-16,   2.21103767e-16,   2.21103767e-16,\n",
       "         0.00000000e+00,   0.00000000e+00,   0.00000000e+00,\n",
       "         2.20811500e-16,   2.20811500e-16,   2.20811500e-16,\n",
       "         2.20811500e-16,   2.20811500e-16,   2.21576850e-16,\n",
       "         0.00000000e+00,   0.00000000e+00,   0.00000000e+00,\n",
       "         0.00000000e+00,   0.00000000e+00,   2.20691937e-16,\n",
       "         2.20691937e-16,   2.20892640e-16,   0.00000000e+00,\n",
       "         0.00000000e+00,   0.00000000e+00,   0.00000000e+00,\n",
       "         0.00000000e+00,   2.20764780e-16,   2.20764780e-16,\n",
       "         0.00000000e+00,   0.00000000e+00,   0.00000000e+00,\n",
       "         2.20773848e-16,   2.20773848e-16,   2.20699319e-16,\n",
       "         2.20773890e-16,   2.20773890e-16,   2.20695468e-16,\n",
       "         2.20699580e-16,   2.20765633e-16,   2.20773734e-16,\n",
       "         2.20773734e-16,   0.00000000e+00,   2.20774001e-16,\n",
       "         2.20699471e-16,   0.00000000e+00,   0.00000000e+00,\n",
       "         0.00000000e+00,   2.21338901e-16,   0.00000000e+00,\n",
       "         0.00000000e+00,   0.00000000e+00,   0.00000000e+00,\n",
       "         2.21349959e-16,   0.00000000e+00,  -2.20765511e-16,\n",
       "         0.00000000e+00,   0.00000000e+00,  -1.12731717e-16,\n",
       "         2.25397707e-16,   4.50966956e-16,   2.25418275e-16,\n",
       "         1.12743323e-16,   4.41398458e-16])"
      ]
     },
     "execution_count": 179,
     "metadata": {},
     "output_type": "execute_result"
    }
   ],
   "source": [
    "(u-uu)/(0.5*(u+uu))"
   ]
  },
  {
   "cell_type": "code",
   "execution_count": 180,
   "metadata": {
    "collapsed": false
   },
   "outputs": [],
   "source": [
    "np.testing.assert_almost_equal(u,uu,decimal=4) "
   ]
  },
  {
   "cell_type": "code",
   "execution_count": 181,
   "metadata": {
    "collapsed": false
   },
   "outputs": [
    {
     "name": "stdout",
     "output_type": "stream",
     "text": [
      "100 loops, best of 3: 13.8 ms per loop\n"
     ]
    }
   ],
   "source": [
    "%timeit f_gcl.gcl_s(x_g,y_g,z_g,dt,p_c,ct_c,ws,wd,ti)"
   ]
  },
  {
   "cell_type": "code",
   "execution_count": 182,
   "metadata": {
    "collapsed": false
   },
   "outputs": [
    {
     "name": "stdout",
     "output_type": "stream",
     "text": [
      "10 loops, best of 3: 22.8 ms per loop\n"
     ]
    }
   ],
   "source": [
    "%timeit gcl.GCLarsen(WF=HR1,WS=ws,WD=wd,TI=ti,inflow='uni')"
   ]
  },
  {
   "cell_type": "code",
   "execution_count": 183,
   "metadata": {
    "collapsed": false
   },
   "outputs": [
    {
     "name": "stdout",
     "output_type": "stream",
     "text": [
      "\n",
      "error in p\n",
      "[  0.00000000e+00   0.00000000e+00   0.00000000e+00   0.00000000e+00\n",
      "   0.00000000e+00   0.00000000e+00   0.00000000e+00   0.00000000e+00\n",
      "   0.00000000e+00   0.00000000e+00   0.00000000e+00   0.00000000e+00\n",
      "   0.00000000e+00   0.00000000e+00   0.00000000e+00   0.00000000e+00\n",
      "   8.24223093e-16   8.24223093e-16   8.24223093e-16   8.24223093e-16\n",
      "   8.24223093e-16   0.00000000e+00   0.00000000e+00   0.00000000e+00\n",
      "   8.20516584e-16   8.20516584e-16   8.20516584e-16   8.20516584e-16\n",
      "   8.20516584e-16   6.64218460e-16   0.00000000e+00   0.00000000e+00\n",
      "   0.00000000e+00   0.00000000e+00   0.00000000e+00   6.55205663e-16\n",
      "   6.55205663e-16   6.57234579e-16   0.00000000e+00   0.00000000e+00\n",
      "   0.00000000e+00   0.00000000e+00   0.00000000e+00   8.19926265e-16\n",
      "   8.19926265e-16   0.00000000e+00   0.00000000e+00   0.00000000e+00\n",
      "   8.20040790e-16   8.20040790e-16   8.19100160e-16   6.56033059e-16\n",
      "   6.56033059e-16   6.55241275e-16   6.55282758e-16   8.19937033e-16\n",
      "   6.56031483e-16   6.56031483e-16   0.00000000e+00   8.20042722e-16\n",
      "   8.19102073e-16   0.00000000e+00   0.00000000e+00   0.00000000e+00\n",
      "   8.27222259e-16   0.00000000e+00   0.00000000e+00   0.00000000e+00\n",
      "   0.00000000e+00   6.61890945e-16   0.00000000e+00  -8.19935491e-16\n",
      "   0.00000000e+00   0.00000000e+00  -3.48877279e-16   5.22891093e-16\n",
      "   1.39585482e-15   5.23023985e-16   1.74488681e-16   1.47437825e-15]\n"
     ]
    },
    {
     "data": {
      "image/png": "[encoded data removed]",
      "text/plain": [
       "<matplotlib.figure.Figure at 0x10d7a5510>"
      ]
     },
     "metadata": {},
     "output_type": "display_data"
    }
   ],
   "source": [
    "plt.plot(p,pp,'ok')\n",
    "plt.plot(p,p,'-r')\n",
    "\n",
    "print\n",
    "print 'error in p'\n",
    "print (p-pp)/(0.5*(p+pp))\n"
   ]
  },
  {
   "cell_type": "code",
   "execution_count": 184,
   "metadata": {
    "collapsed": false
   },
   "outputs": [
    {
     "data": {
      "text/plain": [
       "[<matplotlib.lines.Line2D at 0x10e1d8590>]"
      ]
     },
     "execution_count": 184,
     "metadata": {},
     "output_type": "execute_result"
    },
    {
     "data": {
      "image/png": "[encoded data removed]",
      "text/plain": [
       "<matplotlib.figure.Figure at 0x10dfc2c50>"
      ]
     },
     "metadata": {},
     "output_type": "display_data"
    }
   ],
   "source": [
    "plt.plot(dist[0,0,:],p/max(p),'ok')\n",
    "plt.plot(dist[0,0,:],pp/max(pp),'or')\n",
    "i=7\n",
    "plt.plot(dist[0,0,range(i,80,8)],pp[range(i,80,8)]/max(pp),'ob')"
   ]
  },
  {
   "cell_type": "markdown",
   "metadata": {},
   "source": [
    "### Multiple flow cases GCL"
   ]
  },
  {
   "cell_type": "code",
   "execution_count": 133,
   "metadata": {
    "collapsed": false
   },
   "outputs": [],
   "source": [
    "WS,WD = np.meshgrid(np.linspace(4.0,20.,num=10,endpoint=True),\n",
    "                    np.linspace(0.,360.,num=36,endpoint=True))\n",
    "WS = WS.flatten()\n",
    "WD = WD.flatten()\n",
    "TI = 0.07*np.ones_like(WS)\n",
    "\n",
    "P,T,U = f_gcl.gcl(x_g,y_g,z_g,dt,p_c,ct_c,WS,WD,TI)"
   ]
  },
  {
   "cell_type": "code",
   "execution_count": null,
   "metadata": {
    "collapsed": false
   },
   "outputs": [],
   "source": [
    "P"
   ]
  },
  {
   "cell_type": "code",
   "execution_count": null,
   "metadata": {
    "collapsed": false
   },
   "outputs": [],
   "source": [
    "len(P)"
   ]
  },
  {
   "cell_type": "code",
   "execution_count": null,
   "metadata": {
    "collapsed": true
   },
   "outputs": [],
   "source": []
  }
 ],
 "metadata": {
  "kernelspec": {
   "display_name": "Python 2",
   "language": "python",
   "name": "python2"
  },
  "language_info": {
   "codemirror_mode": {
    "name": "ipython",
    "version": 2
   },
   "file_extension": ".py",
   "mimetype": "text/x-python",
   "name": "python",
   "nbconvert_exporter": "python",
   "pygments_lexer": "ipython2",
   "version": "2.7.6"
  }
 },
 "nbformat": 4,
 "nbformat_minor": 0
}

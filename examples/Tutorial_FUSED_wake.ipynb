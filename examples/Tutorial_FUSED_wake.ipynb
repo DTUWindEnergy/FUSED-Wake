{
 "cells": [
  {
   "cell_type": "markdown",
   "metadata": {
    "run_control": {
     "marked": false
    }
   },
   "source": [
    "# Analysis of a Wind Farm"
   ]
  },
  {
   "cell_type": "markdown",
   "metadata": {
    "run_control": {
     "marked": false
    }
   },
   "source": [
    "A bit of imports to render the notebook"
   ]
  },
  {
   "cell_type": "code",
   "execution_count": null,
   "metadata": {
    "collapsed": false,
    "run_control": {
     "marked": false
    }
   },
   "outputs": [],
   "source": [
    "%load_ext autoreload\n",
    "%autoreload 2\n",
    "import numpy as np\n",
    "from IPython.display import HTML, Latex, Markdown, Pretty"
   ]
  },
  {
   "cell_type": "markdown",
   "metadata": {
    "run_control": {
     "marked": false
    }
   },
   "source": [
    "We will plot with the Plot.ly library"
   ]
  },
  {
   "cell_type": "code",
   "execution_count": null,
   "metadata": {
    "collapsed": false,
    "run_control": {
     "marked": false
    }
   },
   "outputs": [],
   "source": [
    "from plotly import __version__\n",
    "from plotly.offline import download_plotlyjs, init_notebook_mode, iplot\n",
    "from plotly.graph_objs import *\n",
    "print (__version__) # requires version >= 1.9.0\n",
    "init_notebook_mode() # run at the start of every ipython notebook to use plotly.offline\n",
    "                     # this injects the plotly.js source files into the notebook"
   ]
  },
  {
   "cell_type": "markdown",
   "metadata": {
    "run_control": {
     "marked": false
    }
   },
   "source": [
    "# Playing with WindIO"
   ]
  },
  {
   "cell_type": "markdown",
   "metadata": {
    "run_control": {
     "marked": false
    }
   },
   "source": [
    "WindIO is a package that can read `.yml` files describing the plants and turbines. It's hopefully going to be integrated in FUSED-Wind in a close future."
   ]
  },
  {
   "cell_type": "code",
   "execution_count": null,
   "metadata": {
    "collapsed": true,
    "run_control": {
     "marked": false
    }
   },
   "outputs": [],
   "source": [
    "from windIO.Plant import WTLayout"
   ]
  },
  {
   "cell_type": "markdown",
   "metadata": {
    "run_control": {
     "marked": false
    }
   },
   "source": [
    "## Load the layout using `WindIO`"
   ]
  },
  {
   "cell_type": "markdown",
   "metadata": {
    "run_control": {
     "marked": false
    }
   },
   "source": [
    "We have 3 offshore plants to play with. You can change the plant by running the corresponding cell before running the rest of the notebook."
   ]
  },
  {
   "cell_type": "code",
   "execution_count": null,
   "metadata": {
    "collapsed": true,
    "run_control": {
     "marked": false
    }
   },
   "outputs": [],
   "source": [
    "filename = 'middelgrunden.yml'"
   ]
  },
  {
   "cell_type": "code",
   "execution_count": null,
   "metadata": {
    "collapsed": true,
    "run_control": {
     "marked": false
    }
   },
   "outputs": [],
   "source": [
    "filename = 'lillgrund.yml'"
   ]
  },
  {
   "cell_type": "code",
   "execution_count": null,
   "metadata": {
    "collapsed": true,
    "run_control": {
     "marked": true
    }
   },
   "outputs": [],
   "source": [
    "filename = 'hornsrev.yml'"
   ]
  },
  {
   "cell_type": "code",
   "execution_count": null,
   "metadata": {
    "collapsed": false,
    "run_control": {
     "marked": false
    }
   },
   "outputs": [],
   "source": [
    "wtl = WTLayout(filename)"
   ]
  },
  {
   "cell_type": "markdown",
   "metadata": {
    "run_control": {
     "marked": false
    }
   },
   "source": [
    "## The YML file standard"
   ]
  },
  {
   "cell_type": "markdown",
   "metadata": {
    "run_control": {
     "marked": false
    }
   },
   "source": [
    "The WindIO YML format is a human readable file format. It is meant to be easy to edit as a collaborative document.\n",
    "We plan to also include standards to add external data files for the mode data-heavy I/O needs."
   ]
  },
  {
   "cell_type": "markdown",
   "metadata": {
    "run_control": {
     "marked": false
    }
   },
   "source": [
    "#### The header of the file you selected"
   ]
  },
  {
   "cell_type": "code",
   "execution_count": null,
   "metadata": {
    "collapsed": false,
    "run_control": {
     "marked": false
    }
   },
   "outputs": [],
   "source": [
    "!cat $filename|head"
   ]
  },
  {
   "cell_type": "markdown",
   "metadata": {
    "run_control": {
     "marked": false
    }
   },
   "source": [
    "## Plot the geographic location of the wind farm"
   ]
  },
  {
   "cell_type": "code",
   "execution_count": null,
   "metadata": {
    "collapsed": false,
    "run_control": {
     "marked": false
    }
   },
   "outputs": [],
   "source": [
    "wtl.plot_location()"
   ]
  },
  {
   "cell_type": "markdown",
   "metadata": {
    "run_control": {
     "marked": false
    }
   },
   "source": [
    "## Plotting the layout"
   ]
  },
  {
   "cell_type": "code",
   "execution_count": null,
   "metadata": {
    "collapsed": false,
    "run_control": {
     "marked": false
    }
   },
   "outputs": [],
   "source": [
    "wtl.plot_layout()"
   ]
  },
  {
   "cell_type": "code",
   "execution_count": null,
   "metadata": {
    "collapsed": false
   },
   "outputs": [],
   "source": [
    "wtl.WT01"
   ]
  },
  {
   "cell_type": "markdown",
   "metadata": {
    "run_control": {
     "marked": false
    }
   },
   "source": [
    "# Playing with FUSED-Wake"
   ]
  },
  {
   "cell_type": "code",
   "execution_count": null,
   "metadata": {
    "collapsed": false,
    "run_control": {
     "marked": false
    },
    "scrolled": true
   },
   "outputs": [],
   "source": [
    "from fusedwake.WindFarm import WindFarm"
   ]
  },
  {
   "cell_type": "code",
   "execution_count": null,
   "metadata": {
    "collapsed": false,
    "run_control": {
     "marked": false
    }
   },
   "outputs": [],
   "source": [
    "wf = WindFarm(yml=filename)"
   ]
  },
  {
   "cell_type": "markdown",
   "metadata": {
    "run_control": {
     "marked": false
    }
   },
   "source": [
    "The `WindFarm` object representation returns in Jupyter notebooks a little summary of what the wind farm is about"
   ]
  },
  {
   "cell_type": "code",
   "execution_count": null,
   "metadata": {
    "collapsed": false,
    "run_control": {
     "marked": false
    }
   },
   "outputs": [],
   "source": [
    "wf"
   ]
  },
  {
   "cell_type": "markdown",
   "metadata": {
    "run_control": {
     "marked": false
    }
   },
   "source": [
    "## Plotting the power curve"
   ]
  },
  {
   "cell_type": "code",
   "execution_count": null,
   "metadata": {
    "collapsed": false,
    "run_control": {
     "marked": false
    },
    "scrolled": true
   },
   "outputs": [],
   "source": [
    "iplot({'data':[{'x':wf.WT.pc[:,0], \n",
    "                'y':wf.WT.pc[:,1]}], \n",
    "       'layout':{'xaxis':{'title':'Wind Speed [m/s]'}, \n",
    "                 'yaxis':{'title': 'Power [kW]'},\n",
    "                 'title':'The {} Power Curve'.format(wf.WT.turbine_type)}})"
   ]
  },
  {
   "cell_type": "markdown",
   "metadata": {
    "run_control": {
     "marked": false
    }
   },
   "source": [
    "## Running a flow case"
   ]
  },
  {
   "cell_type": "markdown",
   "metadata": {
    "run_control": {
     "marked": false
    }
   },
   "source": [
    "Right now the WindIO WTLayout object is monkey-patched inside the WindFarm object. We might integrate it more tightly inside the WindFarm class later on."
   ]
  },
  {
   "cell_type": "markdown",
   "metadata": {},
   "source": [
    "The GCL model"
   ]
  },
  {
   "cell_type": "code",
   "execution_count": null,
   "metadata": {
    "collapsed": false,
    "run_control": {
     "marked": false
    }
   },
   "outputs": [],
   "source": [
    "from fusedwake.gcl.interface import GCL\n",
    "gcl = GCL(WF=wf, TI=0.1, z0=0.0001, NG=8, sup='lin', inflow='log')"
   ]
  },
  {
   "cell_type": "markdown",
   "metadata": {},
   "source": [
    "The NOJ model"
   ]
  },
  {
   "cell_type": "code",
   "execution_count": null,
   "metadata": {
    "collapsed": false
   },
   "outputs": [],
   "source": [
    "from fusedwake.noj.interface import NOJ\n",
    "noj = NOJ(WF=wf, kj=0.04)"
   ]
  },
  {
   "cell_type": "markdown",
   "metadata": {},
   "source": [
    "The Gaussian shape wake model from Bastankhah & Porté-Agel$^*$\n",
    "\n",
    "<small>$^*$ Bastankhah, M., & Porté-Agel, F. (2014). **A new analytical model for wind-turbine wakes**. *Renewable Energy, 70, 116-123*.</small>"
   ]
  },
  {
   "cell_type": "code",
   "execution_count": null,
   "metadata": {
    "collapsed": false
   },
   "outputs": [],
   "source": [
    "from fusedwake.gau.interface import GAU\n",
    "gau = GAU(WF=wf, ks=0.04)"
   ]
  },
  {
   "cell_type": "markdown",
   "metadata": {
    "run_control": {
     "marked": false
    }
   },
   "source": [
    "The `GCL` class is wrapper class for different python and fortran functions. When the `__init__` function is called, you can pass as parameters all the inputs you want. Typically that would be the inputs you are not planning to change afterwards.\n"
   ]
  },
  {
   "cell_type": "code",
   "execution_count": null,
   "metadata": {
    "collapsed": false,
    "run_control": {
     "marked": false
    }
   },
   "outputs": [],
   "source": [
    "# Inputs\n",
    "WS=10.0 # m/s\n",
    "WD=270 # deg\n",
    "version = 'fort_gcl' # \n",
    "\n",
    "# Run the models\n",
    "gcl(WS=WS, WD=WD, version='fort_gcl')\n",
    "noj(WS=WS, WD=WD, version='fort_noj')\n",
    "gau(WS=WS, WD=WD)"
   ]
  },
  {
   "cell_type": "markdown",
   "metadata": {
    "run_control": {
     "marked": false
    }
   },
   "source": [
    "The models can be run by calling the instance directly. It returns itself so you can also call it like that to calculate the total power produced by the plant:"
   ]
  },
  {
   "cell_type": "code",
   "execution_count": null,
   "metadata": {
    "collapsed": false,
    "run_control": {
     "marked": false
    }
   },
   "outputs": [],
   "source": [
    "gcl(WS=WS, WD=WD).p_wt.sum()"
   ]
  },
  {
   "cell_type": "code",
   "execution_count": null,
   "metadata": {
    "collapsed": false,
    "scrolled": false
   },
   "outputs": [],
   "source": [
    "noj(WS=WS, WD=WD).p_wt.sum()"
   ]
  },
  {
   "cell_type": "code",
   "execution_count": null,
   "metadata": {
    "collapsed": false
   },
   "outputs": [],
   "source": [
    "gau(WS=WS, WD=WD).p_wt.sum()"
   ]
  },
  {
   "cell_type": "markdown",
   "metadata": {
    "run_control": {
     "marked": false
    }
   },
   "source": [
    "Once it has been run, all the inputs and outputs of the model are stored as object variable in the `gcl` instance."
   ]
  },
  {
   "cell_type": "markdown",
   "metadata": {
    "collapsed": false,
    "run_control": {
     "marked": false
    },
    "scrolled": true
   },
   "source": [
    "iplot({'data':[{'x': [wt.name for wt in wf.WT], \n",
    "                'y': noj(version=v).p_wt, 'type': 'scatter',\n",
    "                'name':v} for v in noj.versions ] +\n",
    "              [{'x': [wt.name for wt in wf.WT], \n",
    "                'y': gcl(version=v).p_wt, 'type': 'scatter',\n",
    "               'name':v} for v in gcl.versions] + \n",
    "              [{'x': [wt.name for wt in wf.WT], \n",
    "                'y': gau(version=v).p_wt, 'type': 'scatter',\n",
    "               'name':v} for v in gau.versions],\n",
    "       'layout':{'xaxis':{'title':'Turbine Name'}, \n",
    "                 'yaxis':{'title':'Power [W]'}, \n",
    "                 'title': '%s Power at WD=%2.1f deg and WS=%2.1f m/s'%(wf.name, WD, WS)}})\n",
    "Latex(\"\"\"The total production of %s in this flow case is:\n",
    "      $P_{GCL}(u=%2.1f, \\\\theta=%3.1f)=%8.2f$ MW,\n",
    "      $P_{NOJ}(u=%2.1f, \\\\theta=%3.1f)=%8.2f$ MW\"\"\"%(\n",
    "        wf.name, WS, WD, gcl.p_wt.sum()/1.0E6, WS, WD, noj.p_wt.sum()/1.0E6))"
   ]
  },
  {
   "cell_type": "code",
   "execution_count": null,
   "metadata": {
    "collapsed": false,
    "run_control": {
     "marked": false
    }
   },
   "outputs": [],
   "source": [
    "iplot({'data':[{'x': [wt.name for wt in wf.WT], \n",
    "                'y': noj(version=v).u_wt, 'type': 'scatter',\n",
    "                'name':v} for v in noj.versions ]+\n",
    "              [{'x': [wt.name for wt in wf.WT], \n",
    "                'y': gcl(version=v).u_wt, 'type': 'scatter',\n",
    "               'name':v} for v in gcl.versions] + \n",
    "              [{'x': [wt.name for wt in wf.WT], \n",
    "                'y': gau(version=v).u_wt, 'type': 'scatter',\n",
    "               'name':v} for v in gau.versions],\n",
    "       'layout':{'xaxis':{'title':'Turbine Name'}, \n",
    "                 'yaxis':{'title':'AVG Wind Speed [m/s]'}, \n",
    "                 'title': '%s Average wind speed over the rotor at WD=%2.1f deg and WS=%2.1f m/s'%(wf.name, WD, WS)}})"
   ]
  },
  {
   "cell_type": "markdown",
   "metadata": {
    "run_control": {
     "marked": false
    }
   },
   "source": [
    "There are several versions of the GCLarsen model implemented in the FUSED-Wake. They are all accessible through the `GCL` wrapper class using the same I/Os. "
   ]
  },
  {
   "cell_type": "code",
   "execution_count": null,
   "metadata": {
    "collapsed": false,
    "run_control": {
     "marked": false
    }
   },
   "outputs": [],
   "source": [
    "Markdown('The different version s of GCL currently available are: `{}`'.format('`, `'.join(gcl.versions)))"
   ]
  },
  {
   "cell_type": "markdown",
   "metadata": {
    "run_control": {
     "marked": false
    }
   },
   "source": [
    "Checkout the docs online to see what is the difference."
   ]
  },
  {
   "cell_type": "code",
   "execution_count": null,
   "metadata": {
    "collapsed": false,
    "run_control": {
     "marked": false
    },
    "scrolled": false
   },
   "outputs": [],
   "source": [
    "powers = [gcl(version=v).p_wt.sum() for v in gcl.versions] + [noj(version=v).p_wt.sum() for v in noj.versions] + [gau(version=v).p_wt.sum() for v in gau.versions]\n",
    "# The plot\n",
    "iplot({'data':[{'x': gcl.versions+noj.versions+gau.versions, \n",
    "                'y':powers, 'type':'bar'}], \n",
    "       'layout':{'xaxis':{'title':'GCL version'}, \n",
    "                 'yaxis':{'title':'Total power [W]',\n",
    "                         'range':[min(powers)*0.99, max(powers)*1.01]}, \n",
    "                 'title':'Difference between the power predicted by different implementations of GCL and NOJ'}})\n",
    "# A bit of text\n",
    "Markdown(\"\"\"The different versions of GCL, NOJ and GAU give different results for the \n",
    "         {WF.name} case at WS $={WS: .1f}$ m/s, WD $={WD: .1f} ^o$:\"\"\".format(**gcl.__dict__)\n",
    "       + \"\\n * \" + \"\\n * \".join([\"**{0}**: P = {1: .3f} MW\".format(v, p/1E6) for v, p in zip(gcl.versions + noj.versions + gau.versions, powers)]))"
   ]
  },
  {
   "cell_type": "code",
   "execution_count": null,
   "metadata": {
    "collapsed": false
   },
   "outputs": [],
   "source": [
    "[min(powers), max(powers)]"
   ]
  },
  {
   "cell_type": "markdown",
   "metadata": {
    "run_control": {
     "marked": false
    }
   },
   "source": [
    "The GCL has been developed using several different algorithms, there was a bug found in the original implementaation of the GCL model in Matlab, that was translated to python (version `py0`). It was then fixed in version `py1`. However, it's not clear what is the difference between the `py1` version and the `fort0` version."
   ]
  },
  {
   "cell_type": "code",
   "execution_count": null,
   "metadata": {
    "collapsed": false
   },
   "outputs": [],
   "source": [
    "WDs = range(0,360,1)\n",
    "# The plot\n",
    "iplot({'data':[{'x': WDs, \n",
    "                'y':[gcl(WS=8.0, version=v, WD=wd).p_wt.sum() for wd in WDs], \n",
    "                'name': v} for v in gcl.versions]+\n",
    "               [{'x': WDs, \n",
    "                'y':[noj(WS=8.0, version=v, WD=wd).p_wt.sum() for wd in WDs], \n",
    "                'name': v} for v in noj.versions] + \n",
    "               [{'x': WDs, \n",
    "                'y':[gau(WS=8.0, version=v, WD=wd).p_wt.sum() for wd in WDs], \n",
    "                'name': v} for v in gau.versions], \n",
    "       'layout':{'xaxis':{'title':'Wind Direction [deg]'}, \n",
    "                 'yaxis':{'title':'Total power [W]'}, \n",
    "                 'title':'Difference between the power predicted by different implementations of GCL'}})"
   ]
  },
  {
   "cell_type": "markdown",
   "metadata": {},
   "source": [
    "#### Different number of points to average wind speed on the rotor"
   ]
  },
  {
   "cell_type": "code",
   "execution_count": null,
   "metadata": {
    "collapsed": false
   },
   "outputs": [],
   "source": [
    "NGs = range(4,9)\n",
    "# The plot\n",
    "iplot({'data':[{'x': NGs, \n",
    "                'y':[gcl(NG=NG, version=v).p_wt.sum() for NG in NGs], \n",
    "                'type':'bar', \n",
    "                'name':v} for v in gcl.versions], \n",
    "       'layout':{'xaxis':{'title':'Total power [W]'}, \n",
    "                 'yaxis':{'title':'Number of points in the Gauss averaging [-]'}, \n",
    "                 'title':'Different number of points to average wind speed over the rotor'}})\n"
   ]
  },
  {
   "cell_type": "code",
   "execution_count": null,
   "metadata": {
    "collapsed": true
   },
   "outputs": [],
   "source": []
  },
  {
   "cell_type": "code",
   "execution_count": null,
   "metadata": {
    "collapsed": true
   },
   "outputs": [],
   "source": []
  }
 ],
 "metadata": {
  "kernelspec": {
   "display_name": "Python 3",
   "language": "python",
   "name": "python3"
  },
  "language_info": {
   "codemirror_mode": {
    "name": "ipython",
    "version": 3
   },
   "file_extension": ".py",
   "mimetype": "text/x-python",
   "name": "python",
   "nbconvert_exporter": "python",
   "pygments_lexer": "ipython3",
   "version": "3.5.1"
  }
 },
 "nbformat": 4,
 "nbformat_minor": 0
}

{
 "cells": [
  {
   "cell_type": "code",
   "execution_count": 1,
   "metadata": {
    "collapsed": false
   },
   "outputs": [],
   "source": [
    "import numpy as np\n",
    "import theano\n",
    "import theano.tensor as T"
   ]
  },
  {
   "cell_type": "code",
   "execution_count": 63,
   "metadata": {
    "collapsed": false
   },
   "outputs": [],
   "source": [
    "def single_wake(x, r, D, TI, CT, a1, a2, a3, a4, b1, b2, sqrt, exp):\n",
    "    Area = np.pi * D**2.0 / 4.0\n",
    "    m = 1.0 / (sqrt(1.0 - CT))\n",
    "    k = sqrt((m + 1.0) / 2.0)\n",
    "    R96 = a1 * (exp(a2 * CT * CT + a3 * CT + a4)) * (b1 * TI + b2) * D\n",
    "    x0 = (9.6 * D) / ((2.0 * R96 / (k * D))**3.0 - 1.0)\n",
    "    term1 = (k * D / 2.0)**2.5\n",
    "    term2 = (105.0/(2.0*np.pi))**-0.5\n",
    "    term3 = (CT * Area * x0)**(-5.0 / 6.0)\n",
    "    c1 = term1 * term2 * term3\n",
    "    Rw = ((105.0 * c1**2.0 / (2.0 * np.pi))**0.2) * (CT * Area * (x + x0))**(1.0 / 3.0)\n",
    "    term10=(1./9.)\n",
    "    term20=(CT*Area*(x+x0)**(-2.))**(1./3.)\n",
    "    term310=(r**(1.5))\n",
    "    term320=(3.*c1*c1*CT*Area*(x+x0))**(-0.5)\n",
    "    term30=term310*term320\n",
    "    term41=(35./(2.*np.pi))**(3./10.)\n",
    "    term42=(3.*c1*c1)**(-0.2)\n",
    "    term40=term41*term42\n",
    "    dU1=-term10*term20*(term30-term40)**2.\n",
    "    dU = dU1\n",
    "    dU[Rw<r]=0.0\n",
    "    dU[X_<0.0]=0.0\n",
    "    return dU, Rw"
   ]
  },
  {
   "cell_type": "code",
   "execution_count": 64,
   "metadata": {
    "collapsed": false
   },
   "outputs": [
    {
     "ename": "TypeError",
     "evalue": "'TensorVariable' object does not support item assignment",
     "output_type": "error",
     "traceback": [
      "\u001b[1;31m\u001b[0m",
      "\u001b[1;31mTypeError\u001b[0mTraceback (most recent call last)",
      "\u001b[1;32m<ipython-input-64-23a10cb44599>\u001b[0m in \u001b[0;36m<module>\u001b[1;34m()\u001b[0m\n\u001b[0;32m      4\u001b[0m \u001b[0ma1\u001b[0m\u001b[1;33m,\u001b[0m \u001b[0ma2\u001b[0m\u001b[1;33m,\u001b[0m \u001b[0ma3\u001b[0m\u001b[1;33m,\u001b[0m \u001b[0ma4\u001b[0m\u001b[1;33m,\u001b[0m \u001b[0mb1\u001b[0m\u001b[1;33m,\u001b[0m \u001b[0mb2\u001b[0m \u001b[1;33m=\u001b[0m \u001b[1;33m[\u001b[0m\u001b[1;36m0.435449861\u001b[0m\u001b[1;33m,\u001b[0m \u001b[1;36m0.797853685\u001b[0m\u001b[1;33m,\u001b[0m \u001b[1;33m-\u001b[0m\u001b[1;36m0.124807893\u001b[0m\u001b[1;33m,\u001b[0m \u001b[1;36m0.136821858\u001b[0m\u001b[1;33m,\u001b[0m \u001b[1;36m15.6298\u001b[0m\u001b[1;33m,\u001b[0m \u001b[1;36m1.0\u001b[0m\u001b[1;33m]\u001b[0m\u001b[1;33m\u001b[0m\u001b[0m\n\u001b[0;32m      5\u001b[0m \u001b[1;33m\u001b[0m\u001b[0m\n\u001b[1;32m----> 6\u001b[1;33m \u001b[0mdU\u001b[0m\u001b[1;33m,\u001b[0m \u001b[0mRw\u001b[0m \u001b[1;33m=\u001b[0m \u001b[0msingle_wake\u001b[0m\u001b[1;33m(\u001b[0m\u001b[0mx\u001b[0m\u001b[1;33m,\u001b[0m \u001b[0mr\u001b[0m\u001b[1;33m,\u001b[0m \u001b[0mD\u001b[0m\u001b[1;33m,\u001b[0m \u001b[0mTI\u001b[0m\u001b[1;33m,\u001b[0m \u001b[0mCT\u001b[0m\u001b[1;33m,\u001b[0m \u001b[0ma1\u001b[0m\u001b[1;33m,\u001b[0m \u001b[0ma2\u001b[0m\u001b[1;33m,\u001b[0m \u001b[0ma3\u001b[0m\u001b[1;33m,\u001b[0m \u001b[0ma4\u001b[0m\u001b[1;33m,\u001b[0m \u001b[0mb1\u001b[0m\u001b[1;33m,\u001b[0m \u001b[0mb2\u001b[0m\u001b[1;33m,\u001b[0m \u001b[0msqrt\u001b[0m\u001b[1;33m=\u001b[0m\u001b[0mT\u001b[0m\u001b[1;33m.\u001b[0m\u001b[0msqrt\u001b[0m\u001b[1;33m,\u001b[0m \u001b[0mexp\u001b[0m\u001b[1;33m=\u001b[0m\u001b[0mT\u001b[0m\u001b[1;33m.\u001b[0m\u001b[0mexp\u001b[0m\u001b[1;33m)\u001b[0m\u001b[1;33m\u001b[0m\u001b[0m\n\u001b[0m\u001b[0;32m      7\u001b[0m \u001b[0mgcl_theano\u001b[0m \u001b[1;33m=\u001b[0m \u001b[0mtheano\u001b[0m\u001b[1;33m.\u001b[0m\u001b[0mfunction\u001b[0m\u001b[1;33m(\u001b[0m\u001b[1;33m[\u001b[0m\u001b[0mx\u001b[0m\u001b[1;33m,\u001b[0m \u001b[0mr\u001b[0m\u001b[1;33m,\u001b[0m \u001b[0mCT\u001b[0m\u001b[1;33m,\u001b[0m \u001b[0mTI\u001b[0m\u001b[1;33m,\u001b[0m \u001b[0mD\u001b[0m\u001b[1;33m]\u001b[0m\u001b[1;33m,\u001b[0m \u001b[1;33m[\u001b[0m\u001b[0mdU\u001b[0m\u001b[1;33m,\u001b[0m \u001b[0mRw\u001b[0m\u001b[1;33m]\u001b[0m\u001b[1;33m)\u001b[0m\u001b[1;33m\u001b[0m\u001b[0m\n",
      "\u001b[1;32m<ipython-input-63-d62a31d10805>\u001b[0m in \u001b[0;36msingle_wake\u001b[1;34m(x, r, D, TI, CT, a1, a2, a3, a4, b1, b2, sqrt, exp)\u001b[0m\n\u001b[0;32m     20\u001b[0m     \u001b[0mdU1\u001b[0m\u001b[1;33m=\u001b[0m\u001b[1;33m-\u001b[0m\u001b[0mterm10\u001b[0m\u001b[1;33m*\u001b[0m\u001b[0mterm20\u001b[0m\u001b[1;33m*\u001b[0m\u001b[1;33m(\u001b[0m\u001b[0mterm30\u001b[0m\u001b[1;33m-\u001b[0m\u001b[0mterm40\u001b[0m\u001b[1;33m)\u001b[0m\u001b[1;33m**\u001b[0m\u001b[1;36m2.\u001b[0m\u001b[1;33m\u001b[0m\u001b[0m\n\u001b[0;32m     21\u001b[0m     \u001b[0mdU\u001b[0m \u001b[1;33m=\u001b[0m \u001b[0mdU1\u001b[0m\u001b[1;33m\u001b[0m\u001b[0m\n\u001b[1;32m---> 22\u001b[1;33m     \u001b[0mdU\u001b[0m\u001b[1;33m[\u001b[0m\u001b[0mRw\u001b[0m\u001b[1;33m<\u001b[0m\u001b[0mr\u001b[0m\u001b[1;33m]\u001b[0m\u001b[1;33m=\u001b[0m\u001b[1;36m0.0\u001b[0m\u001b[1;33m\u001b[0m\u001b[0m\n\u001b[0m\u001b[0;32m     23\u001b[0m     \u001b[0mdU\u001b[0m\u001b[1;33m[\u001b[0m\u001b[0mX_\u001b[0m\u001b[1;33m<\u001b[0m\u001b[1;36m0.0\u001b[0m\u001b[1;33m]\u001b[0m\u001b[1;33m=\u001b[0m\u001b[1;36m0.0\u001b[0m\u001b[1;33m\u001b[0m\u001b[0m\n\u001b[0;32m     24\u001b[0m     \u001b[1;32mreturn\u001b[0m \u001b[0mdU\u001b[0m\u001b[1;33m,\u001b[0m \u001b[0mRw\u001b[0m\u001b[1;33m\u001b[0m\u001b[0m\n",
      "\u001b[1;31mTypeError\u001b[0m: 'TensorVariable' object does not support item assignment"
     ]
    }
   ],
   "source": [
    "# gcl = theano.function(inputs=[x, r, CT, TI, D, a1, a2, a3, a4, b1, b2], outputs=[dU, Rw])\n",
    "D, TI, CT, x, r = T.dvectors(\"D\", \"TI\", \"CT\", \"x\", \"r\")\n",
    "#a1, a2, a3, a4, b1, b2 = T.dvectors(\"a1\", \"a2\", \"a3\", \"a4\", \"b1\", \"b2\")\n",
    "a1, a2, a3, a4, b1, b2 = [0.435449861, 0.797853685, -0.124807893, 0.136821858, 15.6298, 1.0]\n",
    "\n",
    "dU, Rw = single_wake(x, r, D, TI, CT, a1, a2, a3, a4, b1, b2, sqrt=T.sqrt, exp=T.exp)\n",
    "gcl_theano = theano.function([x, r, CT, TI, D], [dU, Rw])"
   ]
  },
  {
   "cell_type": "code",
   "execution_count": 38,
   "metadata": {
    "collapsed": true
   },
   "outputs": [],
   "source": [
    "gcl_numpy = lambda x, r, D, TI, CT: single_wake(x, r, D, TI, CT, a1, a2, a3, a4, b1, b2, sqrt=np.sqrt, exp=np.exp)"
   ]
  },
  {
   "cell_type": "code",
   "execution_count": 58,
   "metadata": {
    "collapsed": false
   },
   "outputs": [],
   "source": [
    "wt_D = 80.0\n",
    "N = 1000\n",
    "xs = np.linspace(-2, 10, N) * wt_D\n",
    "rs = np.linspace(-3, 3, N) * wt_D\n",
    "x, r = np.meshgrid(xs, rs)\n",
    "X_ = x.flatten()\n",
    "R_ = abs(r.flatten())\n",
    "D_ = wt_D * np.ones_like(X_)\n",
    "CT_ = 0.80 * np.ones_like(X_)\n",
    "TI_ = 0.01 * np.ones_like(X_)\n",
    "#a1, a2, a3, a4, b1, b2 = [0.435449861, 0.797853685, -0.124807893, 0.136821858, 15.6298, 1.0]\n",
    "#a1 *= np.ones_like(x)\n",
    "#a2 *= np.ones_like(x)\n",
    "#a3 *= np.ones_like(x)\n",
    "#b1 *= np.ones_like(x)\n",
    "#b2 *= np.ones_like(x)"
   ]
  },
  {
   "cell_type": "code",
   "execution_count": 59,
   "metadata": {
    "collapsed": false
   },
   "outputs": [
    {
     "name": "stdout",
     "output_type": "stream",
     "text": [
      "1 loop, best of 3: 389 ms per loop\n"
     ]
    }
   ],
   "source": [
    "%%timeit\n",
    "gcl_theano(X_, R_, CT_, TI_, D_)"
   ]
  },
  {
   "cell_type": "code",
   "execution_count": 60,
   "metadata": {
    "collapsed": false
   },
   "outputs": [
    {
     "name": "stdout",
     "output_type": "stream",
     "text": [
      "1 loop, best of 3: 206 ms per loop\n"
     ]
    }
   ],
   "source": [
    "%%timeit\n",
    "gcl_numpy(X_, R_, CT_, TI_, D_)"
   ]
  },
  {
   "cell_type": "code",
   "execution_count": 62,
   "metadata": {
    "collapsed": false
   },
   "outputs": [
    {
     "data": {
      "text/plain": [
       "1000000"
      ]
     },
     "execution_count": 62,
     "metadata": {},
     "output_type": "execute_result"
    }
   ],
   "source": [
    "X_.size"
   ]
  },
  {
   "cell_type": "code",
   "execution_count": 61,
   "metadata": {
    "collapsed": false
   },
   "outputs": [],
   "source": [
    "dU, Rw = gcl_theano(X_, R_, CT_, TI_, D_)\n",
    "dU[Rw<R_]=0.0\n",
    "dU[X_<0.0]=0.0"
   ]
  },
  {
   "cell_type": "code",
   "execution_count": 51,
   "metadata": {
    "collapsed": false
   },
   "outputs": [],
   "source": [
    "DU = dU.reshape(x.shape)"
   ]
  },
  {
   "cell_type": "code",
   "execution_count": 52,
   "metadata": {
    "collapsed": false
   },
   "outputs": [],
   "source": [
    "from matplotlib import pylab as plt\n",
    "%matplotlib inline"
   ]
  },
  {
   "cell_type": "code",
   "execution_count": 53,
   "metadata": {
    "collapsed": false
   },
   "outputs": [
    {
     "data": {
      "text/plain": [
       "<matplotlib.colorbar.Colorbar at 0x7f1520dff160>"
      ]
     },
     "execution_count": 53,
     "metadata": {},
     "output_type": "execute_result"
    },
    {
     "data": {
      "image/png": "[encoded data removed]",
      "text/plain": [
       "<matplotlib.figure.Figure at 0x7f1520e79cc0>"
      ]
     },
     "metadata": {},
     "output_type": "display_data"
    }
   ],
   "source": [
    "plt.contourf(xs, rs, DU)\n",
    "plt.colorbar()"
   ]
  },
  {
   "cell_type": "code",
   "execution_count": 25,
   "metadata": {
    "collapsed": false
   },
   "outputs": [
    {
     "data": {
      "text/plain": [
       "array([[  0.,   0.,   0., ...,  nan,  nan,  nan],\n",
       "       [  0.,   0.,   0., ...,  nan,  nan,  nan],\n",
       "       [  0.,   0.,   0., ...,  nan,  nan,  nan],\n",
       "       ..., \n",
       "       [  0.,   0.,   0., ...,  nan,  nan,  nan],\n",
       "       [  0.,   0.,   0., ...,  nan,  nan,  nan],\n",
       "       [  0.,   0.,   0., ...,  nan,  nan,  nan]])"
      ]
     },
     "execution_count": 25,
     "metadata": {},
     "output_type": "execute_result"
    }
   ],
   "source": [
    "DU"
   ]
  },
  {
   "cell_type": "code",
   "execution_count": null,
   "metadata": {
    "collapsed": true
   },
   "outputs": [],
   "source": []
  },
  {
   "cell_type": "code",
   "execution_count": null,
   "metadata": {
    "collapsed": true
   },
   "outputs": [],
   "source": []
  },
  {
   "cell_type": "code",
   "execution_count": 68,
   "metadata": {
    "collapsed": false
   },
   "outputs": [
    {
     "name": "stdout",
     "output_type": "stream",
     "text": [
      "[  8.  16.  32.  64.]\n"
     ]
    }
   ],
   "source": [
    "def power_of_2(previous_power, max_value):\n",
    "    return previous_power*2, theano.scan_module.until(previous_power*2 > max_value)\n",
    "\n",
    "max_value = T.scalar()\n",
    "values, _ = theano.scan(power_of_2,\n",
    "                        outputs_info = T.constant(4.),\n",
    "                        non_sequences = max_value,\n",
    "                        n_steps = 1024)\n",
    "\n",
    "f = theano.function([max_value], values)\n",
    "\n",
    "print(f(45))"
   ]
  },
  {
   "cell_type": "code",
   "execution_count": null,
   "metadata": {
    "collapsed": true
   },
   "outputs": [],
   "source": [
    "def march(U, CT)"
   ]
  }
 ],
 "metadata": {
  "anaconda-cloud": {},
  "kernelspec": {
   "display_name": "Python [Root]",
   "language": "python",
   "name": "Python [Root]"
  },
  "language_info": {
   "codemirror_mode": {
    "name": "ipython",
    "version": 3
   },
   "file_extension": ".py",
   "mimetype": "text/x-python",
   "name": "python",
   "nbconvert_exporter": "python",
   "pygments_lexer": "ipython3",
   "version": "3.5.2"
  }
 },
 "nbformat": 4,
 "nbformat_minor": 0
}

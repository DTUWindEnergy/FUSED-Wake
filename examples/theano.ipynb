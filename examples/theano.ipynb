{
 "cells": [
  {
   "cell_type": "code",
   "execution_count": 1,
   "metadata": {
    "collapsed": false
   },
   "outputs": [
    {
     "name": "stderr",
     "output_type": "stream",
     "text": [
      "Using gpu device 0: GeForce GTX 980 (CNMeM is enabled with initial size: 80.0% of memory, cuDNN not available)\n"
     ]
    }
   ],
   "source": [
    "import numpy as np\n",
    "import theano\n",
    "import theano.tensor as T"
   ]
  },
  {
   "cell_type": "code",
   "execution_count": 2,
   "metadata": {
    "collapsed": false
   },
   "outputs": [],
   "source": [
    "def single_wake(x, r, D, TI, CT, a1, a2, a3, a4, b1, b2, sqrt, exp):\n",
    "    Area = np.pi * D**2.0 / 4.0\n",
    "    m = 1.0 / (sqrt(1.0 - CT))\n",
    "    k = sqrt((m + 1.0) / 2.0)\n",
    "    R96 = a1 * (exp(a2 * CT**2.0 + a3 * CT + a4)) * (b1 * TI + b2) * D\n",
    "    x0 = (9.6 * D) / ((2.0 * R96 / (k * D))**3.0 - 1.0)\n",
    "    term1 = (k * D / 2.0)**2.5\n",
    "    term2 = (105.0/(2.0*np.pi))**-0.5\n",
    "    term3 = (CT * Area * x0)**(-5.0 / 6.0)\n",
    "    c1 = term1 * term2 * term3\n",
    "    Rw = ((105.0 * c1**2.0 / (2.0 * np.pi))**0.2) * (CT * Area * (x + x0))**(1.0 / 3.0)\n",
    "    term10=(1./9.)\n",
    "    term20=(CT*Area*(x+x0)**(-2.))**(1./3.)\n",
    "    term310=(r**(1.5))\n",
    "    term320=(3.*c1*c1*CT*Area*(x+x0))**(-0.5)\n",
    "    term30=term310*term320\n",
    "    term41=(35./(2.*np.pi))**(3./10.)\n",
    "    term42=(3.*c1*c1)**(-0.2)\n",
    "    term40=term41*term42\n",
    "    dU1=-term10*term20*(term30-term40)**2.\n",
    "    return dU1, Rw"
   ]
  },
  {
   "cell_type": "code",
   "execution_count": 13,
   "metadata": {
    "collapsed": false
   },
   "outputs": [],
   "source": [
    "# gcl = theano.function(inputs=[x, r, CT, TI, D, a1, a2, a3, a4, b1, b2], outputs=[dU, Rw])\n",
    "D, TI, CT, x, r = T.matrices(\"D\", \"TI\", \"CT\", \"x\", \"r\")\n",
    "#a1, a2, a3, a4, b1, b2 = T.dvectors(\"a1\", \"a2\", \"a3\", \"a4\", \"b1\", \"b2\")\n",
    "a1, a2, a3, a4, b1, b2 = [0.435449861, 0.797853685, -0.124807893, 0.136821858, 15.6298, 1.0]\n",
    "\n",
    "dU, Rw = single_wake(x, r, D, TI, CT, a1, a2, a3, a4, b1, b2, sqrt=T.sqrt, exp=T.exp)\n",
    "\n",
    "# A bit of Theano black magic to do:\n",
    "# dU[Rw<R_]=0.0 \n",
    "dU2 = T.set_subtensor(dU[(Rw<r).nonzero()], 0.0)\n",
    "\n",
    "# dU[X_<0.0]=0.0\n",
    "dU3 = T.set_subtensor(dU2[(x<0.).nonzero()], 0.0)\n",
    "\n",
    "gcl_theano = theano.function([x, r, D, TI, CT], [dU3, Rw], allow_input_downcast=True)"
   ]
  },
  {
   "cell_type": "code",
   "execution_count": 14,
   "metadata": {
    "collapsed": true
   },
   "outputs": [],
   "source": [
    "gcl_numpy = lambda x, r, D, TI, CT: single_wake(x, r, D, TI, CT, a1, a2, a3, a4, b1, b2, sqrt=np.sqrt, exp=np.exp)"
   ]
  },
  {
   "cell_type": "code",
   "execution_count": 24,
   "metadata": {
    "collapsed": false
   },
   "outputs": [],
   "source": [
    "wt_D = 80.0\n",
    "N = 1000\n",
    "xs = np.linspace(-2, 10, N, dtype=np.float32) * wt_D\n",
    "rs = np.linspace(-3, 3, N, dtype=np.float32) * wt_D\n",
    "x, r = np.meshgrid(xs, rs)\n",
    "X_ = x\n",
    "R_ = abs(r)\n",
    "D_ = wt_D * np.ones_like(X_, dtype=np.float32)\n",
    "CT_ = 0.80 * np.ones_like(X_, dtype=np.float32)\n",
    "TI_ = 0.01 * np.ones_like(X_, dtype=np.float32)\n",
    "#a1, a2, a3, a4, b1, b2 = [0.435449861, 0.797853685, -0.124807893, 0.136821858, 15.6298, 1.0]\n",
    "#a1 *= np.ones_like(x)\n",
    "#a2 *= np.ones_like(x)\n",
    "#a3 *= np.ones_like(x)\n",
    "#b1 *= np.ones_like(x)\n",
    "#b2 *= np.ones_like(x)"
   ]
  },
  {
   "cell_type": "code",
   "execution_count": 19,
   "metadata": {
    "collapsed": false
   },
   "outputs": [
    {
     "name": "stdout",
     "output_type": "stream",
     "text": [
      "1 loop, best of 3: 2.25 s per loop\n"
     ]
    }
   ],
   "source": [
    "%%timeit\n",
    "gcl_theano(X_, R_, CT_, TI_, D_)"
   ]
  },
  {
   "cell_type": "code",
   "execution_count": 20,
   "metadata": {
    "collapsed": false
   },
   "outputs": [
    {
     "name": "stdout",
     "output_type": "stream",
     "text": [
      "1 loop, best of 3: 18 s per loop\n"
     ]
    }
   ],
   "source": [
    "%%timeit\n",
    "gcl_numpy(X_, R_, CT_, TI_, D_)"
   ]
  },
  {
   "cell_type": "code",
   "execution_count": 25,
   "metadata": {
    "collapsed": false
   },
   "outputs": [
    {
     "data": {
      "text/plain": [
       "(1000, 1000)"
      ]
     },
     "execution_count": 25,
     "metadata": {},
     "output_type": "execute_result"
    }
   ],
   "source": [
    "X_.shape"
   ]
  },
  {
   "cell_type": "code",
   "execution_count": 26,
   "metadata": {
    "collapsed": false
   },
   "outputs": [],
   "source": [
    "dU, Rw = gcl_theano(X_, R_, D_, TI_, CT_)\n",
    "#dU, Rw = single_wake(X_, R_, D_, TI_, CT_, a1, a2, a3, a4, b1, b2, sqrt=np.sqrt, exp=np.exp)\n",
    "\n",
    "#dU[Rw<R_]=0.0\n",
    "#dU[X_<0.0]=0.0"
   ]
  },
  {
   "cell_type": "code",
   "execution_count": 27,
   "metadata": {
    "collapsed": false
   },
   "outputs": [],
   "source": [
    "from matplotlib import pylab as plt\n",
    "%matplotlib inline"
   ]
  },
  {
   "cell_type": "code",
   "execution_count": 28,
   "metadata": {
    "collapsed": false
   },
   "outputs": [
    {
     "data": {
      "text/plain": [
       "(-160.0, 800.0, -240.0, 240.0)"
      ]
     },
     "execution_count": 28,
     "metadata": {},
     "output_type": "execute_result"
    },
    {
     "data": {
      "image/png": "[encoded data removed]",
      "text/plain": [
       "<matplotlib.figure.Figure at 0x7f8b152e4e48>"
      ]
     },
     "metadata": {},
     "output_type": "display_data"
    }
   ],
   "source": [
    "plt.figure(figsize=(12,4))\n",
    "plt.contourf(xs, rs, dU, 50)\n",
    "plt.colorbar()\n",
    "plt.axis('tight')"
   ]
  },
  {
   "cell_type": "markdown",
   "metadata": {},
   "source": [
    "## Playing with scan"
   ]
  },
  {
   "cell_type": "code",
   "execution_count": 29,
   "metadata": {
    "collapsed": false
   },
   "outputs": [
    {
     "name": "stdout",
     "output_type": "stream",
     "text": [
      "[  8.  16.  32.  64.]\n"
     ]
    }
   ],
   "source": [
    "def power_of_2(previous_power, max_value):\n",
    "    return previous_power*2, theano.scan_module.until(previous_power*2 > max_value)\n",
    "\n",
    "max_value = T.scalar()\n",
    "values, _ = theano.scan(power_of_2,\n",
    "                        outputs_info = T.constant(4.),\n",
    "                        non_sequences = max_value,\n",
    "                        n_steps = 1024)\n",
    "\n",
    "f = theano.function([max_value], values)\n",
    "\n",
    "print(f(45))"
   ]
  },
  {
   "cell_type": "markdown",
   "metadata": {},
   "source": [
    "## Building a meshgrid for Theano"
   ]
  },
  {
   "cell_type": "code",
   "execution_count": 36,
   "metadata": {
    "collapsed": false
   },
   "outputs": [
    {
     "data": {
      "text/plain": [
       "(1000, 1000)"
      ]
     },
     "execution_count": 36,
     "metadata": {},
     "output_type": "execute_result"
    }
   ],
   "source": [
    "x = np.linspace(-10, 10, 20, dtype=np.float32)\n",
    "R = np.linspace(40, 50, 30, dtype=np.float32)\n",
    "\n",
    "X_np, R_np = np.meshgrid(x,R)\n",
    "X_.shape"
   ]
  },
  {
   "cell_type": "code",
   "execution_count": 37,
   "metadata": {
    "collapsed": false
   },
   "outputs": [],
   "source": [
    "def test_mesh(X_, R_):\n",
    "    np.testing.assert_array_almost_equal(X_np, X_)\n",
    "    np.testing.assert_array_almost_equal(R_np, R_)"
   ]
  },
  {
   "cell_type": "code",
   "execution_count": 38,
   "metadata": {
    "collapsed": true
   },
   "outputs": [],
   "source": [
    "def meshgrid(A, B, tile):\n",
    "    \"\"\"Theano friendly meshgrid\n",
    "    \"\"\"\n",
    "    return tile(A, (B.size, 1)), tile(B, (A.size, 1)).T"
   ]
  },
  {
   "cell_type": "markdown",
   "metadata": {},
   "source": [
    "Testing the meshgrid in pure numpy"
   ]
  },
  {
   "cell_type": "code",
   "execution_count": 39,
   "metadata": {
    "collapsed": false
   },
   "outputs": [],
   "source": [
    "test_mesh(*meshgrid(x,R, np.tile))"
   ]
  },
  {
   "cell_type": "markdown",
   "metadata": {},
   "source": [
    "This seems to work fine"
   ]
  },
  {
   "cell_type": "markdown",
   "metadata": {},
   "source": [
    "#### Building the Theano function"
   ]
  },
  {
   "cell_type": "code",
   "execution_count": 40,
   "metadata": {
    "collapsed": false
   },
   "outputs": [],
   "source": [
    "Tx, Tr = T.vectors('x', 'r')\n",
    "TX, TR = meshgrid(Tx, Tr, T.tile)\n",
    "Tmeshgrid = theano.function([Tx, Tr], [TX, TR], allow_input_downcast=True)"
   ]
  },
  {
   "cell_type": "markdown",
   "metadata": {},
   "source": [
    "running the function"
   ]
  },
  {
   "cell_type": "code",
   "execution_count": 41,
   "metadata": {
    "collapsed": false
   },
   "outputs": [],
   "source": [
    "test_mesh(*Tmeshgrid(x, R))"
   ]
  },
  {
   "cell_type": "markdown",
   "metadata": {},
   "source": [
    "All test are passing, Yay!"
   ]
  },
  {
   "cell_type": "markdown",
   "metadata": {},
   "source": [
    "## Rotor integration "
   ]
  },
  {
   "cell_type": "code",
   "execution_count": 42,
   "metadata": {
    "collapsed": true
   },
   "outputs": [],
   "source": [
    "def get_dUeq(x, y, z, RT, R, CT, TI, node_R, node_th, weight, \n",
    "    a1, a2, a3, a4, b1, b2, O=np):\n",
    "    \"\"\"Computes the wake velocity deficit at a location\n",
    "\n",
    "    Inputs\n",
    "    ----------\n",
    "    x: float or array\n",
    "        Distance between wake generating turbines and wake operating\n",
    "        turbines in the streamwise direction\n",
    "    y: float or array\n",
    "        Distance between wake generating turbines and wake operating\n",
    "        turbine in the crossflow horizontal direction\n",
    "    z: float or array\n",
    "        Distance between wake generating turbines and wake operating\n",
    "        turbine in the crossflow vertical direction\n",
    "    RT: float\n",
    "        Wake operating turbine's radius [m]\n",
    "    R: float or array\n",
    "        Wake generating turbine's radius [m]\n",
    "    TI: float\n",
    "        Ambient turbulence intensity for the wake generating turbine [-]\n",
    "    CT: float\n",
    "        Thrust coefficient for the wake generating turbine [-]\n",
    "    order: int, optional\n",
    "\n",
    "    Returns\n",
    "    -------\n",
    "    dUeq: float\n",
    "        Rotor averaged wake velocity deficit for each wake operating WT\n",
    "    \"\"\"\n",
    "\n",
    "    # New improved quadrature rule for wake deficit rotor averaging\n",
    "\n",
    "\n",
    "    x_msh, node_R_msh = meshgrid(x, node_R, O.tile)\n",
    "    y_msh, node_th_msh = meshgrid(y, node_th, O.tile)\n",
    "    z_msh, weight_msh = meshgrid(z, weight, O.tile)\n",
    "\n",
    "    xe = x_msh\n",
    "    ye = y_msh + RT * node_R_msh * O.cos(node_th_msh)\n",
    "    ze = z_msh + RT * node_R_msh * O.sin(node_th_msh)\n",
    "    re = O.sqrt( ye**2. + ze**2. )\n",
    "\n",
    "    dU_msh, Rw = single_wake(xe, re, 2.0*R, CT, TI, a1, a2, a3, a4, b1, b2, sqrt=O.sqrt, exp=O.exp)\n",
    "    dUeq = O.sum(weight_msh * dU_msh, axis=0)\n",
    "\n",
    "    return dUeq"
   ]
  },
  {
   "cell_type": "markdown",
   "metadata": {},
   "source": [
    "Definition of the nodes"
   ]
  },
  {
   "cell_type": "code",
   "execution_count": 43,
   "metadata": {
    "collapsed": true
   },
   "outputs": [],
   "source": [
    "node_R, node_th, weight = np.array([\n",
    "    [ 0.26349922998554242692 ,  4.79436403870179805864 ,  0.00579798753740115753 ],\n",
    "    [ 0.26349922998554242692 ,  5.13630491629471475079 ,  0.01299684397858970851 ],\n",
    "    [ 0.26349922998554242692 ,  5.71955352542765460555 ,  0.01905256317618122044 ],\n",
    "    [ 0.26349922998554242692 ,  0.20924454049880022999 ,  0.02341643323656225281 ],\n",
    "    [ 0.26349922998554242692 ,  1.10309379714216659885 ,  0.02569988335562909190 ],\n",
    "    [ 0.26349922998554242692 ,  2.03849885644762496284 ,  0.02569988335562912660 ],\n",
    "    [ 0.26349922998554242692 ,  2.93234811309099407950 ,  0.02341643323656214179 ],\n",
    "    [ 0.26349922998554242692 ,  3.70522443534172518653 ,  0.01905256317618119616 ],\n",
    "    [ 0.26349922998554242692 ,  4.28847304447466459720 ,  0.01299684397858971198 ],\n",
    "    [ 0.26349922998554242692 ,  4.63041392206758217753 ,  0.00579798753740114539 ],\n",
    "    [ 0.57446451431535072718 ,  4.79436403870179805864 ,  0.01086984853977092380 ],\n",
    "    [ 0.57446451431535072718 ,  5.13630491629471475079 ,  0.02436599330905551281 ],\n",
    "    [ 0.57446451431535072718 ,  5.71955352542765460555 ,  0.03571902745281423097 ],\n",
    "    [ 0.57446451431535072718 ,  0.20924454049880022999 ,  0.04390024659093685194 ],\n",
    "    [ 0.57446451431535072718 ,  1.10309379714216659885 ,  0.04818117282305908744 ],\n",
    "    [ 0.57446451431535072718 ,  2.03849885644762496284 ,  0.04818117282305915683 ],\n",
    "    [ 0.57446451431535072718 ,  2.93234811309099407950 ,  0.04390024659093664378 ],\n",
    "    [ 0.57446451431535072718 ,  3.70522443534172518653 ,  0.03571902745281418240 ],\n",
    "    [ 0.57446451431535072718 ,  4.28847304447466459720 ,  0.02436599330905552321 ],\n",
    "    [ 0.57446451431535072718 ,  4.63041392206758217753 ,  0.01086984853977089951 ],\n",
    "    [ 0.81852948743000586429 ,  4.79436403870179805864 ,  0.01086984853977090992 ],\n",
    "    [ 0.81852948743000586429 ,  5.13630491629471475079 ,  0.02436599330905548505 ],\n",
    "    [ 0.81852948743000586429 ,  5.71955352542765460555 ,  0.03571902745281418934 ],\n",
    "    [ 0.81852948743000586429 ,  0.20924454049880022999 ,  0.04390024659093679643 ],\n",
    "    [ 0.81852948743000586429 ,  1.10309379714216659885 ,  0.04818117282305903193 ],\n",
    "    [ 0.81852948743000586429 ,  2.03849885644762496284 ,  0.04818117282305909438 ],\n",
    "    [ 0.81852948743000586429 ,  2.93234811309099407950 ,  0.04390024659093658826 ],\n",
    "    [ 0.81852948743000586429 ,  3.70522443534172518653 ,  0.03571902745281413383 ],\n",
    "    [ 0.81852948743000586429 ,  4.28847304447466459720 ,  0.02436599330905549199 ],\n",
    "    [ 0.81852948743000586429 ,  4.63041392206758217753 ,  0.01086984853977088737 ],\n",
    "    [ 0.96465960618086743494 ,  4.79436403870179805864 ,  0.00579798753740116100 ],\n",
    "    [ 0.96465960618086743494 ,  5.13630491629471475079 ,  0.01299684397858971545 ],\n",
    "    [ 0.96465960618086743494 ,  5.71955352542765460555 ,  0.01905256317618123432 ],\n",
    "    [ 0.96465960618086743494 ,  0.20924454049880022999 ,  0.02341643323656226669 ],\n",
    "    [ 0.96465960618086743494 ,  1.10309379714216659885 ,  0.02569988335562910925 ],\n",
    "    [ 0.96465960618086743494 ,  2.03849885644762496284 ,  0.02569988335562914394 ],\n",
    "    [ 0.96465960618086743494 ,  2.93234811309099407950 ,  0.02341643323656215567 ],\n",
    "    [ 0.96465960618086743494 ,  3.70522443534172518653 ,  0.01905256317618120657 ],\n",
    "    [ 0.96465960618086743494 ,  4.28847304447466459720 ,  0.01299684397858972065 ],\n",
    "    [ 0.96465960618086743494 ,  4.63041392206758217753 ,  0.00579798753740114886 ]]).T"
   ]
  },
  {
   "cell_type": "code",
   "execution_count": 44,
   "metadata": {
    "collapsed": true
   },
   "outputs": [],
   "source": [
    "a1, a2, a3, a4, b1, b2 = [0.435449861, 0.797853685, -0.124807893, 0.136821858, 15.6298, 1.0]"
   ]
  },
  {
   "cell_type": "code",
   "execution_count": 45,
   "metadata": {
    "collapsed": true
   },
   "outputs": [],
   "source": [
    "D = 80.\n",
    "R = D/2.\n",
    "RT = 90./2.\n",
    "CT = 0.89\n",
    "TI = 0.1\n",
    "x = np.linspace(1., 10., 100, dtype=np.float32) * D\n",
    "y = np.zeros_like(x, dtype=np.float32)\n",
    "z = np.zeros_like(x, dtype=np.float32)"
   ]
  },
  {
   "cell_type": "markdown",
   "metadata": {},
   "source": [
    "The pure python way"
   ]
  },
  {
   "cell_type": "code",
   "execution_count": 46,
   "metadata": {
    "collapsed": false
   },
   "outputs": [],
   "source": [
    "dUeq = get_dUeq(x, y, z, RT, R, CT, TI, node_R, node_th, weight, a1, a2, a3, a4, b1, b2)"
   ]
  },
  {
   "cell_type": "markdown",
   "metadata": {},
   "source": [
    "The Theano way"
   ]
  },
  {
   "cell_type": "code",
   "execution_count": 47,
   "metadata": {
    "collapsed": false
   },
   "outputs": [],
   "source": [
    "Tx, Ty, Tz, Tnode_R, Tnode_th, Tweight = T.vectors('Tx', 'Ty', 'Tz', 'Tnode_R', 'Tnode_th', 'Tweight')\n",
    "TRT, TR, TCT, TTI = T.scalars('TRT', 'TR', 'TCT', 'TTI')\n",
    "TdUeq = get_dUeq(Tx, Ty, Tz, TRT, TR, TCT, TTI, Tnode_R, Tnode_th, Tweight, a1, a2, a3, a4, b1, b2, O=T)\n",
    "Tget_dUeq = theano.function([Tx, Ty, Tz, TRT, TR, TCT, TTI, Tnode_R, Tnode_th, Tweight], TdUeq, allow_input_downcast=True)"
   ]
  },
  {
   "cell_type": "code",
   "execution_count": 48,
   "metadata": {
    "collapsed": true
   },
   "outputs": [],
   "source": [
    "dUeqT = Tget_dUeq(x, y, z, RT, R, CT, TI, node_R, node_th, weight)"
   ]
  },
  {
   "cell_type": "code",
   "execution_count": 49,
   "metadata": {
    "collapsed": true
   },
   "outputs": [],
   "source": [
    "np.testing.assert_array_almost_equal(dUeq, dUeqT)"
   ]
  },
  {
   "cell_type": "markdown",
   "metadata": {},
   "source": [
    "It's working!"
   ]
  },
  {
   "cell_type": "code",
   "execution_count": 50,
   "metadata": {
    "collapsed": false
   },
   "outputs": [
    {
     "data": {
      "text/plain": [
       "<matplotlib.legend.Legend at 0x7f8b09c589b0>"
      ]
     },
     "execution_count": 50,
     "metadata": {},
     "output_type": "execute_result"
    },
    {
     "data": {
      "image/png": "[encoded data removed]",
      "text/plain": [
       "<matplotlib.figure.Figure at 0x7f8b14e19b38>"
      ]
     },
     "metadata": {},
     "output_type": "display_data"
    }
   ],
   "source": [
    "plt.plot(x, dUeqT, label='Theano')\n",
    "plt.plot(x, dUeq, label='Numpy')\n",
    "plt.legend()"
   ]
  },
  {
   "cell_type": "markdown",
   "metadata": {},
   "source": [
    "Benchmarking"
   ]
  },
  {
   "cell_type": "code",
   "execution_count": 54,
   "metadata": {
    "collapsed": true
   },
   "outputs": [],
   "source": [
    "N = 1000000\n",
    "x = np.linspace(1., 10., N) * D\n",
    "y = np.zeros_like(x)\n",
    "z = np.zeros_like(x)"
   ]
  },
  {
   "cell_type": "code",
   "execution_count": 55,
   "metadata": {
    "collapsed": false
   },
   "outputs": [
    {
     "name": "stdout",
     "output_type": "stream",
     "text": [
      "1 loop, best of 3: 209 ms per loop\n"
     ]
    }
   ],
   "source": [
    "%%timeit\n",
    "Tget_dUeq(x, y, z, RT, R, CT, TI, node_R, node_th, weight)"
   ]
  },
  {
   "cell_type": "code",
   "execution_count": 56,
   "metadata": {
    "collapsed": false
   },
   "outputs": [
    {
     "name": "stdout",
     "output_type": "stream",
     "text": [
      "1 loop, best of 3: 13.1 s per loop\n"
     ]
    }
   ],
   "source": [
    "%%timeit\n",
    "get_dUeq(x, y, z, RT, R, CT, TI, node_R, node_th, weight, a1, a2, a3, a4, b1, b2)"
   ]
  },
  {
   "cell_type": "markdown",
   "metadata": {},
   "source": [
    "Theano is about twice as fast as numpy"
   ]
  },
  {
   "cell_type": "markdown",
   "metadata": {},
   "source": [
    "50x time faster using GPUs!!! Yeahhh!!"
   ]
  },
  {
   "cell_type": "markdown",
   "metadata": {},
   "source": [
    "### Funs with analytical gradients."
   ]
  },
  {
   "cell_type": "markdown",
   "metadata": {},
   "source": [
    "We calculate the gradient of the sum of dUeq with respect to x"
   ]
  },
  {
   "cell_type": "code",
   "execution_count": 57,
   "metadata": {
    "collapsed": true
   },
   "outputs": [],
   "source": [
    "Tsum = TdUeq.sum()\n",
    "gradsum = T.grad(Tsum, Tx)"
   ]
  },
  {
   "cell_type": "code",
   "execution_count": 58,
   "metadata": {
    "collapsed": false
   },
   "outputs": [],
   "source": [
    "ddUeq = theano.function([Tx, Ty, Tz, TRT, TR, TCT, TTI, Tnode_R, Tnode_th, Tweight], gradsum, allow_input_downcast=True)"
   ]
  },
  {
   "cell_type": "code",
   "execution_count": 59,
   "metadata": {
    "collapsed": true
   },
   "outputs": [],
   "source": [
    "ddUeqT = ddUeq(x, y, z, RT, R, CT, TI, node_R, node_th, weight)"
   ]
  },
  {
   "cell_type": "code",
   "execution_count": 60,
   "metadata": {
    "collapsed": false
   },
   "outputs": [
    {
     "data": {
      "text/plain": [
       "[<matplotlib.lines.Line2D at 0x7f8b07ed59b0>]"
      ]
     },
     "execution_count": 60,
     "metadata": {},
     "output_type": "execute_result"
    },
    {
     "data": {
      "image/png": "[encoded data removed]",
      "text/plain": [
       "<matplotlib.figure.Figure at 0x7f8b14e197f0>"
      ]
     },
     "metadata": {},
     "output_type": "display_data"
    }
   ],
   "source": [
    "plt.plot(x, ddUeqT, label='gradients')"
   ]
  },
  {
   "cell_type": "code",
   "execution_count": 68,
   "metadata": {
    "collapsed": false
   },
   "outputs": [],
   "source": [
    "from windIO.Plant import WTLayout\n",
    "filename = 'hornsrev.yml'\n",
    "wtl = WTLayout(filename)\n",
    "wt_positions = wtl.positions"
   ]
  },
  {
   "cell_type": "code",
   "execution_count": 67,
   "metadata": {
    "collapsed": false
   },
   "outputs": [
    {
     "data": {
      "text/plain": [
       "[<matplotlib.lines.Line2D at 0x7f8b079b3fd0>]"
      ]
     },
     "execution_count": 67,
     "metadata": {},
     "output_type": "execute_result"
    },
    {
     "data": {
      "image/png": "[encoded data removed]",
      "text/plain": [
       "<matplotlib.figure.Figure at 0x7f8b07e5a908>"
      ]
     },
     "metadata": {},
     "output_type": "display_data"
    }
   ],
   "source": [
    "plt.plot(wtl.positions[:,0], wtl.positions[:,1], '.')"
   ]
  },
  {
   "cell_type": "code",
   "execution_count": 72,
   "metadata": {
    "collapsed": true
   },
   "outputs": [],
   "source": [
    "from fusedwake.WindFarm import WindFarm"
   ]
  },
  {
   "cell_type": "code",
   "execution_count": 73,
   "metadata": {
    "collapsed": true
   },
   "outputs": [],
   "source": [
    "WF = WindFarm(yml=filename)"
   ]
  },
  {
   "cell_type": "code",
   "execution_count": 70,
   "metadata": {
    "collapsed": true
   },
   "outputs": [],
   "source": [
    "def turbineDistance(wd, wt_positions):\n",
    "    angle = np.radians(270.-wd)\n",
    "    ROT = np.array([[np.cos(angle), np.sin(angle)],\n",
    "                    [-np.sin(angle), np.cos(angle)]])\n",
    "    distFlowCoord = np.einsum('ij,jkl->ikl', ROT, wt_positions)\n",
    "    nDownstream = [(distFlowCoord[0, i, :] < 0).sum() for i in range(self.nWT)]\n",
    "    ID0 = np.argsort(nDownstream)\n",
    "    return distFlowCoord, nDownstream, ID0"
   ]
  },
  {
   "cell_type": "code",
   "execution_count": 91,
   "metadata": {
    "collapsed": false
   },
   "outputs": [
    {
     "data": {
      "text/plain": [
       "[<matplotlib.lines.Line2D at 0x7f8b0773a780>]"
      ]
     },
     "execution_count": 91,
     "metadata": {},
     "output_type": "execute_result"
    },
    {
     "data": {
      "image/png": "[encoded data removed]",
      "text/plain": [
       "<matplotlib.figure.Figure at 0x7f8b07895d30>"
      ]
     },
     "metadata": {},
     "output_type": "display_data"
    }
   ],
   "source": [
    "angle = 10\n",
    "ROT = np.array([[np.cos(angle), np.sin(angle)],\n",
    "                [-np.sin(angle), np.cos(angle)]])\n",
    "rot_pos = np.dot(ROT, wt_positions.T).T\n",
    "plt.plot(rot_pos[:,0], rot_pos[:,1], '.')"
   ]
  },
  {
   "cell_type": "code",
   "execution_count": null,
   "metadata": {
    "collapsed": true
   },
   "outputs": [],
   "source": [
    "\n",
    "ta = T.tensor3('a')\n",
    "tb = T.tensor3('b')\n",
    "\n",
    "tc = T.batched_tensordot(ta, tb, axes=[[1],[1]])"
   ]
  },
  {
   "cell_type": "code",
   "execution_count": 230,
   "metadata": {
    "collapsed": false
   },
   "outputs": [],
   "source": [
    "angle = T.scalar('angle')\n",
    "ROT = T.stacklists([[T.cos(angle), T.sin(angle)],\n",
    "                    [-T.sin(angle), T.cos(angle)]])\n",
    "wtp = T.matrix('wtp')\n",
    "rot_pos = T.dot(ROT, wtp.T).T\n",
    "Xp = rot_pos[:,0]\n",
    "Yp = rot_pos[:,1]"
   ]
  },
  {
   "cell_type": "code",
   "execution_count": 231,
   "metadata": {
    "collapsed": false
   },
   "outputs": [],
   "source": [
    "rotation = theano.function([angle, wtp], rot_pos, allow_input_downcast=True)"
   ]
  },
  {
   "cell_type": "code",
   "execution_count": 242,
   "metadata": {
    "collapsed": false
   },
   "outputs": [
    {
     "data": {
      "text/plain": [
       "[<matplotlib.lines.Line2D at 0x7f8b0692c128>]"
      ]
     },
     "execution_count": 242,
     "metadata": {},
     "output_type": "execute_result"
    },
    {
     "data": {
      "image/png": "[encoded data removed]",
      "text/plain": [
       "<matplotlib.figure.Figure at 0x7f8b06f2e978>"
      ]
     },
     "metadata": {},
     "output_type": "display_data"
    }
   ],
   "source": [
    "rot_pos2 = rotation(np.radians(270-10.), wt_positions)\n",
    "plt.plot(rot_pos2[:,0], rot_pos2[:,1], '.')"
   ]
  },
  {
   "cell_type": "markdown",
   "metadata": {
    "collapsed": true
   },
   "source": [
    "### Use scan to iterate over the wind farm"
   ]
  },
  {
   "cell_type": "code",
   "execution_count": 233,
   "metadata": {
    "collapsed": false
   },
   "outputs": [
    {
     "ename": "SyntaxError",
     "evalue": "invalid syntax (<ipython-input-233-c505b890c4d0>, line 1)",
     "output_type": "error",
     "traceback": [
      "\u001b[0;36m  File \u001b[0;32m\"<ipython-input-233-c505b890c4d0>\"\u001b[0;36m, line \u001b[0;32m1\u001b[0m\n\u001b[0;31m    def update_farm(U, CT, )\u001b[0m\n\u001b[0m                            ^\u001b[0m\n\u001b[0;31mSyntaxError\u001b[0m\u001b[0;31m:\u001b[0m invalid syntax\n"
     ]
    }
   ],
   "source": [
    "def update_farm(U, CT, )"
   ]
  },
  {
   "cell_type": "markdown",
   "metadata": {},
   "source": [
    "###  Testing repeat to build the T2T array"
   ]
  },
  {
   "cell_type": "code",
   "execution_count": 234,
   "metadata": {
    "collapsed": false
   },
   "outputs": [],
   "source": [
    "Zp = T.vector('Zp')\n",
    "\n",
    "DX1 = T.tile(Xp, (Xp.size, 1)).reshape((Xp.size, Xp.size))\n",
    "DY1 = T.tile(Yp, (Yp.size, 1)).reshape((Yp.size, Yp.size))\n",
    "DZ1 = T.tile(Zp, (Zp.size, 1)).reshape((Zp.size, Zp.size))\n",
    "DX = DX1 - DX1.T\n",
    "DY = DY1 - DY1.T\n",
    "DZ = DZ1 - DZ1.T"
   ]
  },
  {
   "cell_type": "code",
   "execution_count": 237,
   "metadata": {
    "collapsed": false
   },
   "outputs": [],
   "source": [
    "T2T = theano.function([wtp, Zp, angle], [DX, DY, DZ], allow_input_downcast=True)"
   ]
  },
  {
   "cell_type": "code",
   "execution_count": 252,
   "metadata": {
    "collapsed": false
   },
   "outputs": [],
   "source": [
    "A,B,C = T2T(wt_positions, np.ones(80)*80., np.radians(270-10.))"
   ]
  },
  {
   "cell_type": "code",
   "execution_count": 247,
   "metadata": {
    "collapsed": true
   },
   "outputs": [],
   "source": [
    "distFlowCoord, nDownstream, ID0 = WF.turbineDistance(10)"
   ]
  },
  {
   "cell_type": "code",
   "execution_count": 253,
   "metadata": {
    "collapsed": false
   },
   "outputs": [
    {
     "ename": "AssertionError",
     "evalue": "\nArrays are not almost equal to 7 decimals\n\n(mismatch 98.75%)\n x: array([[    0.       ,   535.7450346,  1071.316421 , ...,  1802.3799016,\n         2337.951288 ,  2873.6963226],\n       [ -535.7450346,     0.       ,   535.5713864, ...,  1266.634867 ,...\n y: array([[    0. ,   535.5,  1071. , ...,  1802. ,  2337.5,  2873.5],\n       [ -535.5,     0. ,   535.5, ...,  1266.5,  1802. ,  2338. ],\n       [-1071. ,  -535.5,     0. , ...,   731. ,  1266.5,  1802.5],...",
     "output_type": "error",
     "traceback": [
      "\u001b[0;31m---------------------------------------------------------------------------\u001b[0m",
      "\u001b[0;31mAssertionError\u001b[0m                            Traceback (most recent call last)",
      "\u001b[0;32m<ipython-input-253-1db58f336bb2>\u001b[0m in \u001b[0;36m<module>\u001b[0;34m()\u001b[0m\n\u001b[0;32m----> 1\u001b[0;31m \u001b[0mnp\u001b[0m\u001b[0;34m.\u001b[0m\u001b[0mtesting\u001b[0m\u001b[0;34m.\u001b[0m\u001b[0massert_almost_equal\u001b[0m\u001b[0;34m(\u001b[0m\u001b[0mdistFlowCoord\u001b[0m\u001b[0;34m[\u001b[0m\u001b[0;36m0\u001b[0m\u001b[0;34m,\u001b[0m\u001b[0;34m:\u001b[0m\u001b[0;34m,\u001b[0m\u001b[0;34m:\u001b[0m\u001b[0;34m]\u001b[0m\u001b[0;34m,\u001b[0m \u001b[0mA\u001b[0m\u001b[0;34m)\u001b[0m\u001b[0;34m\u001b[0m\u001b[0m\n\u001b[0m\u001b[1;32m      2\u001b[0m \u001b[0mnp\u001b[0m\u001b[0;34m.\u001b[0m\u001b[0mtesting\u001b[0m\u001b[0;34m.\u001b[0m\u001b[0massert_almost_equal\u001b[0m\u001b[0;34m(\u001b[0m\u001b[0mdistFlowCoord\u001b[0m\u001b[0;34m[\u001b[0m\u001b[0;36m1\u001b[0m\u001b[0;34m,\u001b[0m\u001b[0;34m:\u001b[0m\u001b[0;34m,\u001b[0m\u001b[0;34m:\u001b[0m\u001b[0;34m]\u001b[0m\u001b[0;34m,\u001b[0m \u001b[0mB\u001b[0m\u001b[0;34m)\u001b[0m\u001b[0;34m\u001b[0m\u001b[0m\n\u001b[1;32m      3\u001b[0m \u001b[0mnp\u001b[0m\u001b[0;34m.\u001b[0m\u001b[0mtesting\u001b[0m\u001b[0;34m.\u001b[0m\u001b[0massert_almost_equal\u001b[0m\u001b[0;34m(\u001b[0m\u001b[0mdistFlowCoord\u001b[0m\u001b[0;34m[\u001b[0m\u001b[0;36m2\u001b[0m\u001b[0;34m,\u001b[0m\u001b[0;34m:\u001b[0m\u001b[0;34m,\u001b[0m\u001b[0;34m:\u001b[0m\u001b[0;34m]\u001b[0m\u001b[0;34m,\u001b[0m \u001b[0mC\u001b[0m\u001b[0;34m)\u001b[0m\u001b[0;34m\u001b[0m\u001b[0m\n",
      "\u001b[0;32m/home/pe/anaconda3/envs/fusedwake/lib/python3.5/site-packages/numpy/testing/utils.py\u001b[0m in \u001b[0;36massert_almost_equal\u001b[0;34m(actual, desired, decimal, err_msg, verbose)\u001b[0m\n\u001b[1;32m    519\u001b[0m     \u001b[0;32mif\u001b[0m \u001b[0misinstance\u001b[0m\u001b[0;34m(\u001b[0m\u001b[0mactual\u001b[0m\u001b[0;34m,\u001b[0m \u001b[0;34m(\u001b[0m\u001b[0mndarray\u001b[0m\u001b[0;34m,\u001b[0m \u001b[0mtuple\u001b[0m\u001b[0;34m,\u001b[0m \u001b[0mlist\u001b[0m\u001b[0;34m)\u001b[0m\u001b[0;34m)\u001b[0m\u001b[0;31m \u001b[0m\u001b[0;31m\\\u001b[0m\u001b[0;34m\u001b[0m\u001b[0m\n\u001b[1;32m    520\u001b[0m             \u001b[0;32mor\u001b[0m \u001b[0misinstance\u001b[0m\u001b[0;34m(\u001b[0m\u001b[0mdesired\u001b[0m\u001b[0;34m,\u001b[0m \u001b[0;34m(\u001b[0m\u001b[0mndarray\u001b[0m\u001b[0;34m,\u001b[0m \u001b[0mtuple\u001b[0m\u001b[0;34m,\u001b[0m \u001b[0mlist\u001b[0m\u001b[0;34m)\u001b[0m\u001b[0;34m)\u001b[0m\u001b[0;34m:\u001b[0m\u001b[0;34m\u001b[0m\u001b[0m\n\u001b[0;32m--> 521\u001b[0;31m         \u001b[0;32mreturn\u001b[0m \u001b[0massert_array_almost_equal\u001b[0m\u001b[0;34m(\u001b[0m\u001b[0mactual\u001b[0m\u001b[0;34m,\u001b[0m \u001b[0mdesired\u001b[0m\u001b[0;34m,\u001b[0m \u001b[0mdecimal\u001b[0m\u001b[0;34m,\u001b[0m \u001b[0merr_msg\u001b[0m\u001b[0;34m)\u001b[0m\u001b[0;34m\u001b[0m\u001b[0m\n\u001b[0m\u001b[1;32m    522\u001b[0m     \u001b[0;32mtry\u001b[0m\u001b[0;34m:\u001b[0m\u001b[0;34m\u001b[0m\u001b[0m\n\u001b[1;32m    523\u001b[0m         \u001b[0;31m# If one of desired/actual is not finite, handle it specially here:\u001b[0m\u001b[0;34m\u001b[0m\u001b[0;34m\u001b[0m\u001b[0m\n",
      "\u001b[0;32m/home/pe/anaconda3/envs/fusedwake/lib/python3.5/site-packages/numpy/testing/utils.py\u001b[0m in \u001b[0;36massert_array_almost_equal\u001b[0;34m(x, y, decimal, err_msg, verbose)\u001b[0m\n\u001b[1;32m    914\u001b[0m     assert_array_compare(compare, x, y, err_msg=err_msg, verbose=verbose,\n\u001b[1;32m    915\u001b[0m              \u001b[0mheader\u001b[0m\u001b[0;34m=\u001b[0m\u001b[0;34m(\u001b[0m\u001b[0;34m'Arrays are not almost equal to %d decimals'\u001b[0m \u001b[0;34m%\u001b[0m \u001b[0mdecimal\u001b[0m\u001b[0;34m)\u001b[0m\u001b[0;34m,\u001b[0m\u001b[0;34m\u001b[0m\u001b[0m\n\u001b[0;32m--> 916\u001b[0;31m              precision=decimal)\n\u001b[0m\u001b[1;32m    917\u001b[0m \u001b[0;34m\u001b[0m\u001b[0m\n\u001b[1;32m    918\u001b[0m \u001b[0;34m\u001b[0m\u001b[0m\n",
      "\u001b[0;32m/home/pe/anaconda3/envs/fusedwake/lib/python3.5/site-packages/numpy/testing/utils.py\u001b[0m in \u001b[0;36massert_array_compare\u001b[0;34m(comparison, x, y, err_msg, verbose, header, precision)\u001b[0m\n\u001b[1;32m    735\u001b[0m                                 names=('x', 'y'), precision=precision)\n\u001b[1;32m    736\u001b[0m             \u001b[0;32mif\u001b[0m \u001b[0;32mnot\u001b[0m \u001b[0mcond\u001b[0m\u001b[0;34m:\u001b[0m\u001b[0;34m\u001b[0m\u001b[0m\n\u001b[0;32m--> 737\u001b[0;31m                 \u001b[0;32mraise\u001b[0m \u001b[0mAssertionError\u001b[0m\u001b[0;34m(\u001b[0m\u001b[0mmsg\u001b[0m\u001b[0;34m)\u001b[0m\u001b[0;34m\u001b[0m\u001b[0m\n\u001b[0m\u001b[1;32m    738\u001b[0m     \u001b[0;32mexcept\u001b[0m \u001b[0mValueError\u001b[0m\u001b[0;34m:\u001b[0m\u001b[0;34m\u001b[0m\u001b[0m\n\u001b[1;32m    739\u001b[0m         \u001b[0;32mimport\u001b[0m \u001b[0mtraceback\u001b[0m\u001b[0;34m\u001b[0m\u001b[0m\n",
      "\u001b[0;31mAssertionError\u001b[0m: \nArrays are not almost equal to 7 decimals\n\n(mismatch 98.75%)\n x: array([[    0.       ,   535.7450346,  1071.316421 , ...,  1802.3799016,\n         2337.951288 ,  2873.6963226],\n       [ -535.7450346,     0.       ,   535.5713864, ...,  1266.634867 ,...\n y: array([[    0. ,   535.5,  1071. , ...,  1802. ,  2337.5,  2873.5],\n       [ -535.5,     0. ,   535.5, ...,  1266.5,  1802. ,  2338. ],\n       [-1071. ,  -535.5,     0. , ...,   731. ,  1266.5,  1802.5],..."
     ]
    }
   ],
   "source": [
    "np.testing.assert_almost_equal(distFlowCoord[0,:,:], A)\n",
    "np.testing.assert_almost_equal(distFlowCoord[1,:,:], B)\n",
    "np.testing.assert_almost_equal(distFlowCoord[2,:,:], C)"
   ]
  },
  {
   "cell_type": "code",
   "execution_count": 261,
   "metadata": {
    "collapsed": false
   },
   "outputs": [
    {
     "data": {
      "text/plain": [
       "array([[    0.    ,   163.5   ,   328.    , ...,  5781.8125,  5946.3125,\n",
       "         6109.8125],\n",
       "       [ -163.5   ,     0.    ,   164.5   , ...,  5618.3125,  5782.8125,\n",
       "         5946.3125],\n",
       "       [ -328.    ,  -164.5   ,     0.    , ...,  5453.8125,  5618.3125,\n",
       "         5781.8125],\n",
       "       ..., \n",
       "       [-5781.8125, -5618.3125, -5453.8125, ...,     0.    ,   164.5   ,\n",
       "          328.    ],\n",
       "       [-5946.3125, -5782.8125, -5618.3125, ...,  -164.5   ,     0.    ,\n",
       "          163.5   ],\n",
       "       [-6109.8125, -5946.3125, -5781.8125, ...,  -328.    ,  -163.5   ,\n",
       "            0.    ]], dtype=float32)"
      ]
     },
     "execution_count": 261,
     "metadata": {},
     "output_type": "execute_result"
    }
   ],
   "source": [
    "B"
   ]
  },
  {
   "cell_type": "code",
   "execution_count": 260,
   "metadata": {
    "collapsed": false
   },
   "outputs": [
    {
     "data": {
      "text/plain": [
       "array([[    0.        ,   535.74503459,  1071.31642101, ...,\n",
       "         1802.3799016 ,  2337.95128801,  2873.6963226 ],\n",
       "       [ -535.74503459,     0.        ,   535.57138642, ...,\n",
       "         1266.634867  ,  1802.20625342,  2337.95128801],\n",
       "       [-1071.31642101,  -535.57138642,     0.        , ...,\n",
       "          731.06348059,  1266.634867  ,  1802.3799016 ],\n",
       "       ..., \n",
       "       [-1802.3799016 , -1266.634867  ,  -731.06348059, ...,\n",
       "            0.        ,   535.57138642,  1071.31642101],\n",
       "       [-2337.95128801, -1802.20625342, -1266.634867  , ...,\n",
       "         -535.57138642,     0.        ,   535.74503459],\n",
       "       [-2873.6963226 , -2337.95128801, -1802.3799016 , ...,\n",
       "        -1071.31642101,  -535.74503459,     0.        ]])"
      ]
     },
     "execution_count": 260,
     "metadata": {},
     "output_type": "execute_result"
    }
   ],
   "source": [
    "distFlowCoord[0,:,:]"
   ]
  },
  {
   "cell_type": "code",
   "execution_count": null,
   "metadata": {
    "collapsed": true
   },
   "outputs": [],
   "source": []
  }
 ],
 "metadata": {
  "anaconda-cloud": {},
  "kernelspec": {
   "display_name": "Python [conda env:fusedwake]",
   "language": "python",
   "name": "conda-env-fusedwake-py"
  },
  "language_info": {
   "codemirror_mode": {
    "name": "ipython",
    "version": 3
   },
   "file_extension": ".py",
   "mimetype": "text/x-python",
   "name": "python",
   "nbconvert_exporter": "python",
   "pygments_lexer": "ipython3",
   "version": "3.5.2"
  }
 },
 "nbformat": 4,
 "nbformat_minor": 0
}
